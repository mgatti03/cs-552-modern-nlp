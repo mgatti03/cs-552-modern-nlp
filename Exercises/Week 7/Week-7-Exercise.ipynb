{
 "cells": [
  {
   "cell_type": "markdown",
   "id": "ac671356",
   "metadata": {
    "id": "ac671356"
   },
   "source": [
    "#  Exercise 7: In-Context Learning with GPT-4o mini"
   ]
  },
  {
   "cell_type": "markdown",
   "id": "7fc96df3",
   "metadata": {
    "id": "7fc96df3"
   },
   "source": [
    "<div style=\"padding:15px 20px 20px 20px;border-left:3px solid green;background-color:#e4fae4;border-radius: 20px;color:#424242;\">\n",
    "\n",
    "## **Exercise Description**\n",
    "In this exercise, you will investigate in-context learning using OpenAI GPT-4o mini model. \n",
    "\n",
    "This exercise contains two parts.\n",
    "\n",
    "- In the first part, you will investigate in-context learning for classification based on a natural language inference (NLI) task.\n",
    "    \n",
    "- In the second part, you will investigate in-context learning for generation based on a story ending generation (SEG) task.\n",
    "\n",
    "\n",
    "### Table of Contents\n",
    "- **[PART 1: In-Context Learning for Natural Language Inference](#1)**\n",
    "    - [1.1 Compare Different Shots](#11)\n",
    "    - [1.2 Effect of Neutral In-Context Examples](#12)\n",
    "    - [1.3 Play with Different Verbalizers](#13)\n",
    "    - [1.4 Task Instructions](#14)\n",
    "- **[PART 2: In-Context Learning for Story Ending Generation](#2)**\n",
    "    - [2.1 Zero-Shot Generation](#21)\n",
    "    - [2.2 Few-Shot Generation](#22)\n",
    "    - [2.3 Task Instructions](#23)\n",
    "\n",
    "</div>"
   ]
  },
  {
   "cell_type": "code",
   "execution_count": null,
   "id": "iLBx5JbP0xNR",
   "metadata": {
    "colab": {
     "base_uri": "https://localhost:8080/"
    },
    "executionInfo": {
     "elapsed": 17844,
     "status": "ok",
     "timestamp": 1681740155337,
     "user": {
      "displayName": "Silin Gao",
      "userId": "06208253100379244126"
     },
     "user_tz": -120
    },
    "id": "iLBx5JbP0xNR",
    "outputId": "a40cc025-2d9a-481c-e282-52b14864a6e2"
   },
   "outputs": [],
   "source": [
    "# if you are using Google Colab, mount your drive\n",
    "from google.colab import drive\n",
    "drive.mount('/content/drive')\n",
    "# switch to the path where you put the Exercise folder into\n",
    "%cd \"/content/drive/MyDrive/...\""
   ]
  },
  {
   "cell_type": "code",
   "execution_count": 1,
   "id": "a9a720ab",
   "metadata": {
    "colab": {
     "base_uri": "https://localhost:8080/"
    },
    "executionInfo": {
     "elapsed": 12760,
     "status": "ok",
     "timestamp": 1681740200735,
     "user": {
      "displayName": "Silin Gao",
      "userId": "06208253100379244126"
     },
     "user_tz": -120
    },
    "id": "a9a720ab",
    "outputId": "9c92e6e6-3b81-419b-8121-34e299d7e6aa",
    "scrolled": false
   },
   "outputs": [
    {
     "name": "stdout",
     "output_type": "stream",
     "text": [
      "Requirement already satisfied: numpy in /opt/anaconda3/envs/mnlp_exercises/lib/python3.10/site-packages (1.26.4)\n",
      "Requirement already satisfied: tqdm in /opt/anaconda3/envs/mnlp_exercises/lib/python3.10/site-packages (4.67.1)\n",
      "Requirement already satisfied: nltk in /opt/anaconda3/envs/mnlp_exercises/lib/python3.10/site-packages (3.9.1)\n",
      "Requirement already satisfied: click in /opt/anaconda3/envs/mnlp_exercises/lib/python3.10/site-packages (from nltk) (8.1.8)\n",
      "Requirement already satisfied: joblib in /opt/anaconda3/envs/mnlp_exercises/lib/python3.10/site-packages (from nltk) (1.4.2)\n",
      "Requirement already satisfied: regex>=2021.8.3 in /opt/anaconda3/envs/mnlp_exercises/lib/python3.10/site-packages (from nltk) (2024.11.6)\n"
     ]
    }
   ],
   "source": [
    "!pip install numpy tqdm nltk"
   ]
  },
  {
   "cell_type": "markdown",
   "id": "623e14fd",
   "metadata": {
    "id": "623e14fd"
   },
   "source": [
    "You also need to install our **GPT wrapper** to interact with OpenAI GPT models for free."
   ]
  },
  {
   "cell_type": "code",
   "execution_count": 2,
   "id": "3d4c8ba5",
   "metadata": {
    "colab": {
     "base_uri": "https://localhost:8080/"
    },
    "executionInfo": {
     "elapsed": 8408,
     "status": "ok",
     "timestamp": 1681740214720,
     "user": {
      "displayName": "Silin Gao",
      "userId": "06208253100379244126"
     },
     "user_tz": -120
    },
    "id": "3d4c8ba5",
    "outputId": "d762dd09-aeb5-4731-8eae-50c520d80ba1"
   },
   "outputs": [
    {
     "name": "stdout",
     "output_type": "stream",
     "text": [
      "Processing ./gpt_wrapper-0.2.0-py3-none-any.whl\n",
      "Requirement already satisfied: requests in /opt/anaconda3/envs/mnlp_exercises/lib/python3.10/site-packages (from gpt-wrapper==0.2.0) (2.32.3)\n",
      "Requirement already satisfied: charset-normalizer<4,>=2 in /opt/anaconda3/envs/mnlp_exercises/lib/python3.10/site-packages (from requests->gpt-wrapper==0.2.0) (3.4.1)\n",
      "Requirement already satisfied: idna<4,>=2.5 in /opt/anaconda3/envs/mnlp_exercises/lib/python3.10/site-packages (from requests->gpt-wrapper==0.2.0) (3.10)\n",
      "Requirement already satisfied: urllib3<3,>=1.21.1 in /opt/anaconda3/envs/mnlp_exercises/lib/python3.10/site-packages (from requests->gpt-wrapper==0.2.0) (2.3.0)\n",
      "Requirement already satisfied: certifi>=2017.4.17 in /opt/anaconda3/envs/mnlp_exercises/lib/python3.10/site-packages (from requests->gpt-wrapper==0.2.0) (2025.1.31)\n",
      "Installing collected packages: gpt-wrapper\n",
      "Successfully installed gpt-wrapper-0.2.0\n"
     ]
    }
   ],
   "source": [
    "!pip install gpt_wrapper-0.2.0-py3-none-any.whl"
   ]
  },
  {
   "cell_type": "markdown",
   "id": "d4d0ca95",
   "metadata": {
    "id": "d4d0ca95"
   },
   "source": [
    "Import the required packages for this exercise, including our GPT wrapper."
   ]
  },
  {
   "cell_type": "code",
   "execution_count": 3,
   "id": "8d81dd37",
   "metadata": {
    "colab": {
     "base_uri": "https://localhost:8080/"
    },
    "executionInfo": {
     "elapsed": 2603,
     "status": "ok",
     "timestamp": 1681740221134,
     "user": {
      "displayName": "Silin Gao",
      "userId": "06208253100379244126"
     },
     "user_tz": -120
    },
    "id": "8d81dd37",
    "outputId": "f726397f-6cf5-435a-86a5-7d403c8d6423"
   },
   "outputs": [
    {
     "name": "stderr",
     "output_type": "stream",
     "text": [
      "[nltk_data] Downloading package punkt to\n",
      "[nltk_data]     /Users/gattimartina/nltk_data...\n",
      "[nltk_data]   Package punkt is already up-to-date!\n",
      "[nltk_data] Downloading package punkt_tab to\n",
      "[nltk_data]     /Users/gattimartina/nltk_data...\n",
      "[nltk_data]   Package punkt_tab is already up-to-date!\n",
      "[nltk_data] Downloading package wordnet to\n",
      "[nltk_data]     /Users/gattimartina/nltk_data...\n",
      "[nltk_data]   Package wordnet is already up-to-date!\n"
     ]
    }
   ],
   "source": [
    "import json\n",
    "import numpy as np\n",
    "from tqdm import tqdm\n",
    "import random\n",
    "from copy import deepcopy\n",
    "import nltk\n",
    "nltk.download('punkt')\n",
    "nltk.download('punkt_tab')\n",
    "nltk.download('wordnet')\n",
    "from nltk.tokenize import word_tokenize\n",
    "from nltk.translate.meteor_score import meteor_score\n",
    "\n",
    "import gpt_wrapper\n",
    "from gpt_wrapper.chat import Chat"
   ]
  },
  {
   "cell_type": "markdown",
   "id": "3049b54b",
   "metadata": {
    "id": "3049b54b"
   },
   "source": [
    "To facilitate reproduction, we fix a random seed here."
   ]
  },
  {
   "cell_type": "code",
   "execution_count": 4,
   "id": "acca193e",
   "metadata": {
    "id": "acca193e"
   },
   "outputs": [],
   "source": [
    "seed = 233"
   ]
  },
  {
   "cell_type": "markdown",
   "id": "721322d2",
   "metadata": {
    "id": "721322d2"
   },
   "source": [
    "Set up the API access to our GPT wrapper."
   ]
  },
  {
   "cell_type": "code",
   "execution_count": 5,
   "id": "cd376243",
   "metadata": {
    "id": "cd376243"
   },
   "outputs": [],
   "source": [
    "gpt_wrapper.api_base = \"http://mnlp-backend-lb-1062233132.eu-central-1.elb.amazonaws.com\"\n",
    "gpt_wrapper.api_key = \"1067c253-7e95-42bc-9b57-fb03508f30dd\""
   ]
  },
  {
   "cell_type": "markdown",
   "id": "11e49157",
   "metadata": {
    "id": "11e49157"
   },
   "source": [
    "<a name=\"1\"></a>\n",
    "## **PART 1: In-Context Learning for Natural Language Inference**\n",
    "---\n",
    "\n",
    "In this part, you are going to use the GPT-4o mini model to solve the [natural language inference (NLI)](https://towardsdatascience.com/natural-language-inference-an-overview-57c0eecf6517) task based on in-context learning. For this task, model needs to classify the relation of two given sentences (premise and hypothesis) into three classes: entailment, neutral and contradiction."
   ]
  },
  {
   "cell_type": "markdown",
   "id": "ed303c88",
   "metadata": {
    "id": "ed303c88"
   },
   "source": [
    "Here you can take a glance of the training data used for sampling few-shot in-context examples, and the testing data used to query GPT-4o mini language model for classification (along with the gold answers for evaluation)."
   ]
  },
  {
   "cell_type": "code",
   "execution_count": 6,
   "id": "f8ee990d",
   "metadata": {
    "colab": {
     "base_uri": "https://localhost:8080/"
    },
    "executionInfo": {
     "elapsed": 1067,
     "status": "ok",
     "timestamp": 1681740230765,
     "user": {
      "displayName": "Silin Gao",
      "userId": "06208253100379244126"
     },
     "user_tz": -120
    },
    "id": "f8ee990d",
    "outputId": "b35316c7-6c25-421a-bce4-8f77b5b4c5a4"
   },
   "outputs": [
    {
     "name": "stdout",
     "output_type": "stream",
     "text": [
      "Training Samples:\n",
      "I know lawyers are always dreadfully careful.\n",
      "I'm well aware that lawyers are always very careful.\n",
      "Answer: entailment\n",
      "\n",
      "\n",
      "Testing Query:\n",
      "The new rights are nice enough\n",
      "Everyone really likes the newest benefits \n",
      "Answer:\n",
      "\n",
      "\n",
      "Gold Answer:\n",
      "neutral\n"
     ]
    }
   ],
   "source": [
    "with open(\"nli_classification/train_classification.json\", \"r\") as f:\n",
    "    train_samples = json.load(f)\n",
    "with open(\"nli_classification/test_classification.json\", \"r\") as f:\n",
    "    test_data = json.load(f)\n",
    "\n",
    "print(\"Training Samples:\")\n",
    "print(train_samples[\"entailment\"][0])\n",
    "print(\"\\n\")\n",
    "\n",
    "print(\"Testing Query:\")\n",
    "print(test_data[0][\"query\"])\n",
    "print(\"\\n\")\n",
    "\n",
    "print(\"Gold Answer:\")\n",
    "print(test_data[0][\"gold_answer\"])"
   ]
  },
  {
   "cell_type": "code",
   "execution_count": 61,
   "id": "1bc59f30",
   "metadata": {},
   "outputs": [
    {
     "data": {
      "text/plain": [
       "{'entailment': [\"I know lawyers are always dreadfully careful.\\nI'm well aware that lawyers are always very careful.\\nAnswer: entailment\",\n",
       "  \"Nearby, the atmospheric medieval Alfama district is Lisbon's most picturesque and fascinating area.\\nThe most fascinating area in Lisbon is the Alfama district.\\nAnswer: entailment\",\n",
       "  'Mussolini annexes Abyssinia (Ethiopia), bombs  Republican Spain\\nMussolini gained new land.\\nAnswer: entailment',\n",
       "  \"yeah yeah right right right how many hours are you taking\\nYeah, tell me how many hours you're taking. \\nAnswer: entailment\",\n",
       "  'The United States responded by deploying U.S. naval forces in the region.\\nThe response from the US was sending US naval forces to the area.\\nAnswer: entailment',\n",
       "  'When pollsters talk about a representative sample they mean a sampling that accurately reflects the population at large.\\nThey speak in regards to an accurate section of society at large.\\nAnswer: entailment',\n",
       "  'You can be easily suckered into just such another fight.\\nThere might be another fight.\\nAnswer: entailment',\n",
       "  'Since cost-benefit analysis is critical to over-coming resistance to implementation, research groups should include health care economists or health services researchers.\\nCost-benefit analysis is critical to over-coming resistance to implementation\\nAnswer: entailment',\n",
       "  'Rooms were free as we spoke.\\nRooms freed as we talked.\\nAnswer: entailment',\n",
       "  'They will discover something new each time.\\nEach time they will find something new.\\nAnswer: entailment',\n",
       "  'whatever they are i i do i find and and they go alone with that just the things you get in the mail\\nI receive items in the mail.\\nAnswer: entailment',\n",
       "  'How maddening, cried Tuppence.\\nTuppence thought it was maddening.\\nAnswer: entailment',\n",
       "  'Next to the church, the prison-like building with those fierce, barred windows was, in fact, a prison when it was built in the 17th century.\\nA prison was built in the 17th century next to the church.\\nAnswer: entailment',\n",
       "  'JFMIP requirements documents identify (1) a framework for financial management systems, (2) core financial systems requirements, and (3) 16 other financial and mixed systems supporting agency operations, not all of which are applicable to all agencies.\\nJFMIP requirements include a framework for the financial management systems.\\nAnswer: entailment',\n",
       "  'Medieval penitents traced its path on hands and knees, from the circumference to the center, a symbolic spiritual journey.\\nThe path was traced with their hands and knees.\\nAnswer: entailment',\n",
       "  \"uh yeah and i'm going well well i don't want to gamble so i just let the car cool off until i get a hard failure\\nI play it safe with my car.\\nAnswer: entailment\",\n",
       "  \"well no i mean they're not allowed to accept any new inmates\\nThey are not permitted to accept new inmates.  \\nAnswer: entailment\",\n",
       "  'i only get the newspaper on the weekends so\\nI only receive the weekend newspaper.\\nAnswer: entailment',\n",
       "  \"In a minute, when I've done with you, you'll go to bed as I told you to.\\nWhen I finish what I'm doing to you, you can sleep as instructed. \\nAnswer: entailment\",\n",
       "  'Rapid Alcohol Problems Screen.\\nSpecific problems screen. \\nAnswer: entailment',\n",
       "  'SO2 and NOx contribute to acid deposition, which damages lakes and streams, adversely affecting the fish and other species that live in them, and leaches nutrients from the soil.\\nSO2 contributes to the damaging of lakes and streams.\\nAnswer: entailment',\n",
       "  \"Zoffany used the East India Company men as models, with the painter's sworn enemy, Mr. Paull, as Judas.\\nZoffany painted the men from the East India Company as well as his archnemesis, Mr. Paull.\\nAnswer: entailment\",\n",
       "  \"It should be seen as affirming the fact of Christ's presence, but not as explaining how the change takes place.\\nIt is proof that Christ exists.\\nAnswer: entailment\",\n",
       "  'The tank is encircled by small sculptured deities and coiled snakes.\\nSculptures of little deities and snakes surround the tank.\\nAnswer: entailment',\n",
       "  'What British historians call the Peninsular War (1808 1814) is known in Spain as the War of Independence.\\nThe War of Independence in Spain was called the Peninsular War by the British.\\nAnswer: entailment',\n",
       "  'so we just stopped there uh you know had some breakfast got some water and kept on walking\\nWe stopped and had breakfast and then kept walking.\\nAnswer: entailment',\n",
       "  'Lowering pound rates or raising breakpoints may benefit some mailers, but it will also have a negative impact on others who find themselves dealing, for example, with higher piece rates and the like.\\nChanging the rates will both benefit and hurt different mailers.\\nAnswer: entailment',\n",
       "  \"' All of President Clinton's untruths, all of his lying under oath, if you will, about an extramarital relationship does not subvert the Constitution (Schumer).\\nThe Constitution does not specify about extramarital relationships.  \\nAnswer: entailment\",\n",
       "  'What he ought to have done, what any sane man would have done, was to remain patiently where he was and wait for his man to come out again.\\nHe should have waited for the man to come out again.\\nAnswer: entailment',\n",
       "  'Even if you used Add/Remove on Internet Explorer, Wininet.dll, Urlmon.dll, and Mshtml.dll are still there.\\nParts of Internet Explorer are not removed with the normal process.\\nAnswer: entailment',\n",
       "  \"but their homes have passed on to their uh children or or to younger younger families and they don't seem to maintain it as well as the original people did i or or like you would or i would and perhaps its just it's\\nA lot of houses have been passed on to children who don't care to maintain it as well as the original owners.\\nAnswer: entailment\",\n",
       "  'Congress would not have needed to add the certification provision to protect the presidential advisers if their records were not within the scope of GAOas access authority.\\nThe certification provision would not need to be added.\\nAnswer: entailment',\n",
       "  'oh really hm i wonder why it does\\nI wonder why it does that.\\nAnswer: entailment',\n",
       "  'It was like a fog.\\nIt was hazy.\\nAnswer: entailment',\n",
       "  \"um-hum well actually excuse me our dental insurance you know it's it's good it's certainly better than nothing it's not you know it's not super you for unfortunately in my case and you sound like a younger guy so you probably don't have it you know i do have some dental problems and it's very very expensive\\nOur dental insurance does what it's supposed to do.\\nAnswer: entailment\",\n",
       "  'Blithe investors toss millions at the Web out of the conviction that it will subsume the other media, change the face of capitalism, and generate billion-dollar payouts.\\nCareless investors throw money into the Web, thinking it will get them huge profits.\\nAnswer: entailment',\n",
       "  'Poirot went on. \\nPoirot continued.\\nAnswer: entailment',\n",
       "  \"Artists still scorn it as a vulgar pastiche, and the working-class residents of the area resented its being erected as a symbol of penitence for the insurrection of the 1871 Commune they didn't feel penitent in the least.\\nIt did not reflect the sentiment of the area.\\nAnswer: entailment\",\n",
       "  \"so because you always put your phone number down so they can call and tell you that you won\\nSo you put your phone number down so they can all you and tell you that you're the winner\\nAnswer: entailment\",\n",
       "  'Some want to paint Democrats as soft on defense.\\nSome want others to think Democrats are soft on defense.\\nAnswer: entailment',\n",
       "  \"The Administration on Aging and the Agency for Toxic Substances and Disease Registry) did not list rules that were available for comment.\\nThe Administration on Aging didn't list the rules that could be commented on.\\nAnswer: entailment\",\n",
       "  'But nothing can prepare you for the visual shock of the Sistine Chapel (Cappella Sistina), built for Sixtus IV in the 15th century.\\nThe Cappella Sistina, built in the 1400s, is a visual shock.\\nAnswer: entailment',\n",
       "  'No, it is as Auden says.\\nIt is how Auden says it is, so no. \\nAnswer: entailment',\n",
       "  'LSC has developed performance guidelines for assessing grant applications.\\nThe grants had performance standards tied to the applications.\\nAnswer: entailment',\n",
       "  'Just below this lies the Tomb of the Prophets, believed to be the burial place of Haggai, Malachi, and Zechariah.\\nThe Tomb of the Prophets where Haggai, Malachi, and Zechariah are said to be found is just below this.\\nAnswer: entailment',\n",
       "  'ah certainly is\\nIt is. \\nAnswer: entailment',\n",
       "  'A piece claims George W. Bush and Al Gore are spiritual twins.\\nThe piece identified Al Gore and George W. Bush as spiritual twins.\\nAnswer: entailment',\n",
       "  'Poland lost a significant amount of territory after new borders were drawn up in the Yalta Agreement in 1945, including the eastern regions around Wilno (Vilnius) and Lwew (Lvov).\\nAfter new borders were drawn up in the Yalta Agreement in 1945, Poland lost a significant amount of territory, ncluding the eastern regions around Wilno (Vilnius) and Lwew (Lvov).\\nAnswer: entailment',\n",
       "  'There was a roar of tortured air from overhead and a thundering sound that was unlike anything except the tearing of an infinity of cloth combined with a sustained explosion of atomic bombs.\\nThere was a big roar and a thundering noise from above.\\nAnswer: entailment',\n",
       "  'our estimate of the total number of premature mortalities in 2020 would be reduced by approximately 80 percent, from approximately 12,000 annually to approximately 2,200 annually.\\nThe number of premature moralities in 2020 would go down 80%.\\nAnswer: entailment',\n",
       "  \"The Senate passed compromise patients' rights legislation.\\nPatients' rights legislation was passed by the Senate.\\nAnswer: entailment\",\n",
       "  'The choir stalls, carved to illustrate the lives of the saints, are attributed to the 16th-century Dutch master known as Cornelius de Holanda.\\nThe choir stalls illustrate the lives of the saints.\\nAnswer: entailment',\n",
       "  \"The Jardim do Pal?¡cio do Monte (Monte Palace Tropical Gardens), a short walk east of the church, is firmly rooted in the past.\\nA short walk to the church's east will take you to the Monte Palace Tropical Gardens.\\nAnswer: entailment\",\n",
       "  'They are welcome to this cause.\\nThey are accepted to be a part of this cause. \\nAnswer: entailment',\n",
       "  'VA Health  More Veterans Are Being Served, But Better Oversight Is Needed (GAO/HEHS-98-226, Aug. 28, 1998).\\nVA Health more veterans are being served\\nAnswer: entailment',\n",
       "  'TRANSACTIONS WITH THE PUBLIC\\npublic transactions\\nAnswer: entailment',\n",
       "  'The major ones, in the western group, are in a beautifully kept park with paths leading easily from one to the other.\\nThere are paths going from one major one to another.\\nAnswer: entailment',\n",
       "  '999 percent reliable voice-recognition software.\\nThe voice recognition software was almost infallible.\\nAnswer: entailment',\n",
       "  'To get the stationery engraved, the die plate will cost $56, about average.\\nThe cost is neither cheap nor expensive.\\nAnswer: entailment',\n",
       "  \"It'd be malpractice not to.\\nIt would be a poor descision not to. \\nAnswer: entailment\",\n",
       "  'They continued to sit in silence.\\nThey were quiet as they sat. \\nAnswer: entailment',\n",
       "  \"he's Eldon her housepainter\\nEldon is her house painter.\\nAnswer: entailment\",\n",
       "  \"before they didn't but i know they're going to start now\\nThey are going to start now.\\nAnswer: entailment\",\n",
       "  'Interestingly, they were Creole French offspring of French nationals born in Montreal.\\nFrench citizens born in Montreal had children who were Creole French.\\nAnswer: entailment',\n",
       "  'We failed when we pushed willing, but unprepared grantees to opportunities they were not ready to exploit.\\nIt was wrong to push the grantees into opportunities they were not ready for.\\nAnswer: entailment',\n",
       "  \"oh yeah it's funny some of their necks don't get broken\\nTheir necks could be broken.\\nAnswer: entailment\",\n",
       "  \"Jon looked down and met Susan's green eyes.\\nJon saw Susan. \\nAnswer: entailment\",\n",
       "  'The home town of the maharajas regains a flicker of its old glory every October during the Dussehra festival, when the heir of the old rulers of Mysore State is paraded through the streets on his golden throne, surrounded by gorgeously caparisoned elephants .\\nThe Dussehra festival takes place in October with a parade that is viewed by many people.\\nAnswer: entailment',\n",
       "  'uh you know Communism would feed them all\\nCommunism is able to feed all of them\\nAnswer: entailment',\n",
       "  'Buchanan was the hit of the United We Stand Convention in 1995 and enjoys good relations with Perot.\\nBuchanan was the hit of the United We Stand Convention.\\nAnswer: entailment',\n",
       "  'Italian artists Futurists Giovanni Fattori and Telemaco Signorini and the Ferrara trio of Filippo de Pisis, Carlo Carr?\\xa0, and Giorgio de Chirico are better represented than other Europeans, of whom Matisse, Klee, and Ernst are the most notable.\\nThere are not as many German artists as Italian ones in the collection.\\nAnswer: entailment',\n",
       "  \"In the end, people were reluctant to make a complete change until 1981, when the forces for reform gathered sufficient strength to elect Francois Mitterrand as the Fifth Republic's first Socialist president.\\nIt wasn't until 1981 that people were willing to elect Fifth Republic's first Socialist president.\\nAnswer: entailment\",\n",
       "  \"The dead woman had not the gift of commanding love. \\nThe dead woman didn't command love.\\nAnswer: entailment\",\n",
       "  \"Meanwhile, Japan--the world's second-largest economy and a country that by normal criteria ought to have no trouble increasing demand--finds itself stuck in exactly the trap Burnham  no longer able to find uses for the available investment funds, which waste in idleness in the account books of the banks.\\nAs a large economy, Japan is expected to easily increase demand. \\nAnswer: entailment\",\n",
       "  \"Poland's war-torn and almost incomprehensibly fractured history plays out like an epic novel occasionally triumphant, frequently sad and tragic.\\nSometimes, Poland's history can be tragic and sad.\\nAnswer: entailment\",\n",
       "  'Lawrence Cavendish was then put into the box. \\nLawrence Cavendish was then led into the box.\\nAnswer: entailment',\n",
       "  \"Ann Lewis (The public's  -1 )\\nAnne Lewis is public's 1 \\nAnswer: entailment\",\n",
       "  'Look for the servant girl hurtled into hell for flirting with the devil.\\nAs a result of flirting with the devil, the servant girl was hurtled into hell.\\nAnswer: entailment',\n",
       "  'But this presented a new testing challenge, namely that anything in the street in New York City is fair game.\\nThe new challenge was that anything goes in the streets of New York City.\\nAnswer: entailment',\n",
       "  \"But what were Lawrence Cavendish's finger-marks doing on it? \\nHow come we found Lawrence Cavendish's finger-marks on it?\\nAnswer: entailment\",\n",
       "  'I took her across town, to see the lab.\\nMe and her went to see lab. \\nAnswer: entailment',\n",
       "  'However, our survey of federal managers, conducted in late 1996 and 1997, indicates there is substantial room for improvement in this area.\\nOur survey of federal managers was conducted in the late 1996 and 1997.\\nAnswer: entailment',\n",
       "  'We did our best, though it may be that the auspices were too strong on the soma.\\nThere are some auspices too strong for somas.\\nAnswer: entailment',\n",
       "  \"As I said before, I'm a mutt! returned Julius.\\nJulius is of mixed heritage. \\nAnswer: entailment\",\n",
       "  'There needs to be a sense of urgency in order to make the investment, commitment, and ultimately change the model.\\nThe model can only be changed if there is a sense of urgency.\\nAnswer: entailment',\n",
       "  \"you know and uh i was brought up the same way if if it doesn't matter what age you have if just so long as you can get up to go to class the next morning you can stay up you know but his what he does is when he gets home he separates his his work from his house\\nAll that matters is that you go to class.\\nAnswer: entailment\",\n",
       "  'The meetings were held around the country and included environmental organizations, businesses, state and local governments, tribal governments, and other stakeholders.\\nEnvironmental organizations, businesses, state and local governments were included in the meetings.\\nAnswer: entailment',\n",
       "  'he was a teacher\\nHe worked as a teacher\\nAnswer: entailment',\n",
       "  \"He'd almost managed to forget what he was, and he didn't enjoy having the aircraft worker find out.\\nHe didn't like having the aircraft worker discover what he was.\\nAnswer: entailment\",\n",
       "  \"But not a penny piece besides, not a pair of gloves, nor a theatre ticket.' She didn't understand, was very offended sometimes. \\nShe couldn't comprehend.\\nAnswer: entailment\",\n",
       "  'They are soon disposed of afterwards.\" 62 There was a sinister note in his voice.\\nMenacingly, he said that they would be disposed of.\\nAnswer: entailment',\n",
       "  \"um well with guys pretty healthy appetite i'd probably go a third of a pound and then you know you could\\nBecause the guy has a healthy appetite you should stick with a third of a pound.\\nAnswer: entailment\",\n",
       "  \"I should act more freaked out.\\nI should act like I'm really scared.\\nAnswer: entailment\",\n",
       "  \"well we don't do much eating out\\nWe don't go out to eat much.\\nAnswer: entailment\",\n",
       "  \"well me i'm going and my daughter down in Austin\\nMy daughter lives in Austin.\\nAnswer: entailment\",\n",
       "  '7 billion of these dollars was for a contingency, a hedge against the unknown---to cover unforeseen events.\\nThe hedge fund was worth 7 billion dollars.\\nAnswer: entailment',\n",
       "  \"I've tried to think of everything. Sir James smiled.\\nSir James was smiling when he tried to think of everything.\\nAnswer: entailment\",\n",
       "  'The number of computer users at these organizations ranged from 3,500 to 100,000, and four had significant international operations.\\nFour of these organizations had significant international operations.\\nAnswer: entailment',\n",
       "  'This makes the book subclass very inefficient at serving those for whom it was established.\\nThe book does not work well for whom it was written.\\nAnswer: entailment',\n",
       "  'However, the team used a method, learned in the CAP workshop, for analyzing and increasing stakeholder commitment levels.\\nThe method for increasing stakeholder commitment used by the team came from the CAP workshop.\\nAnswer: entailment'],\n",
       " 'neutral': ['Such an assessment also requires an understanding of how alternative valuation approaches reflect that some individuals may be more susceptible to air pollution-induced mortality, or reflect differences in the nature of the risk presented by air pollution relative to the risks studied in the relevant economic literature.\\nThere are a few different ways to approach it.\\nAnswer: neutral',\n",
       "  'It is because you are trying to drown and stifle your instinct, which tells you another name ” ”\"\\nYou have more suspects for the crime.\\nAnswer: neutral',\n",
       "  \"I think I'll be getting back. \\nI believe that this is the time for me to return.\\nAnswer: neutral\",\n",
       "  'ways that technology can be incorporated to improve business processes, outputs, and outcomes.\\nOutputs can be incorporated into chicken nugget meals.\\nAnswer: neutral',\n",
       "  'The Vandals, who destroyed almost all evidence of the Roman occupation, settled in North Africa, becoming a sea power.\\nSome features of Roman occupation were deliberately preserved by the Vandals.\\nAnswer: neutral',\n",
       "  \" 'I can give you White.'\\nI am in control of White and can give him to you.\\nAnswer: neutral\",\n",
       "  \"inspired reactions from both sides of the table, ranging from Yes, that's exactly it to Call me a cynic, but I ain't quitting a job for a f--k unless I'm SURE it's love and even then, dammit, HE can quit.\\nThe topic was about quitting your job for to focus on your relationship with your significant other. \\nAnswer: neutral\",\n",
       "  'at the present time we have none we intend to purchase a pup in two months\\nWe intend to purchase a puppy from a breeder from two months.\\nAnswer: neutral',\n",
       "  \"Once you've seen the real thing, maybe you want to visit The Pharaonic Village, a theme park recreating life in Ancient Egypt.\\nThe Pharaonic Village has actual pieces of a Sphinx in a museum on the property.\\nAnswer: neutral\",\n",
       "  'In 1860, a treaty gave Britain a permanent beach-head on the Chinese mainland the Kowloon peninsula, directly across Victoria harbor.\\nA treaty let the British stay on the Chinese mainland for ten more years.\\nAnswer: neutral',\n",
       "  \"(And yes, we'd like one, hypocrites that we are, thank you very much.)\\nWe are in need of supplies and clothing and realize our faults.\\nAnswer: neutral\",\n",
       "  \"The moral of the story, simply put,  Till your garden where you are; good and evil exist in similar quantities almost everywhere.\\nPersonally, I think that there's a lot of wisdom to be gleaned from the moral of this story.\\nAnswer: neutral\",\n",
       "  'I started to run, and was spotted at once.\\nI ran and drew a ton of attention to myself immediately.\\nAnswer: neutral',\n",
       "  'Salt-stone pillars held up many of the tunnels and a single barrel of water could collapse a pillar and break down the tunnel.\\nThe tunnels were built many years ago.\\nAnswer: neutral',\n",
       "  'Rather, the rule operates in a manner that prohibits restrictions on the resale of service.\\nThe rule is effective.\\nAnswer: neutral',\n",
       "  'The lottery retailers will surely spend millions to keep their cash cow, and the governors are likely to campaign for video gambling as well.\\nThe lottery retailers want to continue to make millions off of it.\\nAnswer: neutral',\n",
       "  'Probably the latter.\\nThe latter has always been better.\\nAnswer: neutral',\n",
       "  ' The capital of Ibiza, called simply Ibiza, or Ibiza Town, has a population of almost 35,000.\\nThe capital on Ibiza island has the biggest population at 35k.\\nAnswer: neutral',\n",
       "  '170 \"So long, Cousin Jane.\\nSad to say goodbye to Cousin Jane.\\nAnswer: neutral',\n",
       "  'In return for this flexibility, sources were to provide a full accounting of their emissions through continuous monitoring and reporting, and there would be consequences for failing to comply.\\nThe manufacturers had to give all the information about their emissions..\\nAnswer: neutral',\n",
       "  'We\\'ll be sleuths in earnest!\"\\nWe are very excited to start sluething around.\\nAnswer: neutral',\n",
       "  'Restoring Social Security to sustainable solvency and increasing saving are intertwined national goals.\\nSocial Security is directly influenced by an increase or decrease in national savings averages.\\nAnswer: neutral',\n",
       "  \"Dumbness doesn't.\\nDumbness doesn't mean it's okay to kill someone.\\nAnswer: neutral\",\n",
       "  \"i've missed the first ten minutes\\nI was making dinner and missed the first ten minutes.\\nAnswer: neutral\",\n",
       "  'and so if you convert all your measure into those uh fundamental units and analyze them you can uh get a pretty good sense as to whether your formula is correct\\nThe formula is correct.\\nAnswer: neutral',\n",
       "  'An article explicates curling (shuffleboard on ice with brooms), the one game in all the world wherein the human participants move faster than the object they put in play.\\nCurling is a popular game.\\nAnswer: neutral',\n",
       "  'excuse me Verna for just a second can you hang on just a second okay\\nVerna can you shut up for a second.\\nAnswer: neutral',\n",
       "  'When did you first suspect John Cavendish? I asked, after a minute or two. \\nJohn Cavendish was suspected of murder.\\nAnswer: neutral',\n",
       "  'East of Marseilles lies an area of rugged, narrow inlets called calanques that are favorites of hikers, mountain climbers, scuba divers, cliff divers, yachters, swimmers, and bird-watchers.\\nThe calanques east of Marseilles is a favorite area for sunbathers.\\nAnswer: neutral',\n",
       "  'Now tell me, what are you two up to, eh?\"  \\nAre you two doing something that is wrong?\\nAnswer: neutral',\n",
       "  'If mailers have ideas, they ought to submit them.\\nMailers have thousands of ideas ready to send.\\nAnswer: neutral',\n",
       "  \"but i don't know um yeah i guess that percentage rates are like eighteen percent\\nEighteen percent is a very high percentage rate.\\nAnswer: neutral\",\n",
       "  \"There are no wheat rolls anymore, because they're banned, and that newspaper which you still have on your side table, is no longer published, and all other paper ones are gone too.\\nThings are banned because there is a scarcity of resources.\\nAnswer: neutral\",\n",
       "  \"and that was you know he she'd just she had treated him like family does you know and um\\nThat was you know she'd just treat everybody equally\\nAnswer: neutral\",\n",
       "  \"have our kids um you know have little lessons with them and you know just see count see how things are going in our family and you know teach them about their grandparents or something like that bring out pictures of them so they get to know them and we just do all kinds of fun things like that and\\nWe have over 1,000 pictures of the kid's grandparents so show them.\\nAnswer: neutral\",\n",
       "  \"so uh but i i do all of my programming on the mainframe and i uh don't have a lot of opportunity to work on the PC except at home\\nI also work on a Mac at home. \\nAnswer: neutral\",\n",
       "  \"This research should include studies on the use of no-cost services such as self-help or 12-step\\nThe research will contain studies on Mcdonald's\\nAnswer: neutral\",\n",
       "  'A guard shoos us well back from the door where she will enter, and at 8:25 a black sport utility vehicle pulls up outside the glass door.\\nThere were four people inside the black vehicle.\\nAnswer: neutral',\n",
       "  'The fellow must be at least twenty years younger than she is! \\nHe is a young man.\\nAnswer: neutral',\n",
       "  'After the employees had evacuated, they were told that they were participating in a test, that they were to assume that a bomb had actually destroyed their workplace, and to proceed with emergency recovery plans.\\nThe company does these bomb tests once a year.\\nAnswer: neutral',\n",
       "  'Built to hold festivities during his visits from Thebes, the Ramesseum was decorated with majestic statues of the Pharaoh, and the pylon depicts him triumphant at the Battle of Qadesh when he quashed the Hittites.\\nThe Pharaoh was a mighty warrior.\\nAnswer: neutral',\n",
       "  \"i try to do as much as i can on that on our newer one uh uh mini vans it's all electronic and computers and everything in it\\nI have done repairs on our cars in the past, but now cars have computers and electronics that make it harder.\\nAnswer: neutral\",\n",
       "  \"In Fishamble Street, leading downhill to the river, a plaque commemorates the first performance of Handel's Messiah, which took place in the Music Hall (now an old steelworks) on 13 April 1742.\\nThe premiere of Handel's Messiah was sparsely attended.\\nAnswer: neutral\",\n",
       "  \"like i said it was noted for you know it's food\\nIt was noted for its steaks.\\nAnswer: neutral\",\n",
       "  'I can assure you that GAO and I will do our part to practice what we preach and lead by example in our roles, responsibilities and values.\\nGAO will undoubtedly succeed in its efforts to be an example of responsibility.\\nAnswer: neutral',\n",
       "  \"Ca'daan attempted none.\\nCa'daan made no attempt, too wary to do so.\\nAnswer: neutral\",\n",
       "  'I handed the fragment over to the police who did not consider it of much importance. \\nI handed the fragment to the police, who threw it on the table.\\nAnswer: neutral',\n",
       "  'Sound and Light Show\\nThere is a wonderful sound and light show you can take in.\\nAnswer: neutral',\n",
       "  \"In the early nineteenth century, America's western territories were still largely unexplored.\\nThere are no times in which the exploration of the American territories was considered during that time.\\nAnswer: neutral\",\n",
       "  'Customs anticipated that world trade would also continue to accelerate.\\nWorld trade is exciting\\nAnswer: neutral',\n",
       "  'According to Lindsay, FEMA has already received 44,000 inspection requests in Texas.\\nFEMA has thousands of requests to inspect because of a hurricane.\\nAnswer: neutral',\n",
       "  \"''Fred was ahead of his time in addressing the needs of the Latino community,'' said District Justice Michele Varricchio of Allentown, a former law partner.\\nFred's efforts to address the needs of the Latino community was widely recognised.\\nAnswer: neutral\",\n",
       "  'So long as China continues to develop, Hong Kong will get a substantial chunk of that growth.\\nHong Kong relies on China for a great amount of wealth.\\nAnswer: neutral',\n",
       "  'The assassin lunged forward, letting the blade pierce through his back.\\nThe blade pierced through his back and cut his spinal cord as the assassin lunged forward\\nAnswer: neutral',\n",
       "  'What was this complication of a will? \\nWhat complication did the will have that was relevant?\\nAnswer: neutral',\n",
       "  'Do you want me to go with you?\\nDo you want me to stay home?\\nAnswer: neutral',\n",
       "  'Had it been a little clearer in its terms, it is possible that Mrs. Inglethorp, warned in time, would have escaped. \\nSomeone tried to warn Mrs. Inglethorp, but it was already too late. \\nAnswer: neutral',\n",
       "  'In 27 percent of the cases, the charges were dismissed or the defendant was found not guilty.\\nThe charges on the defendant were criminal charges for murder.\\nAnswer: neutral',\n",
       "  \"The ferry from Eminene passes the K??z Kulesi (Maiden's Tower), perched on a tiny island about 200 metres (600 feet) offshore.\\nThe Maiden's Tower is believed to be haunted, according to the local legends.\\nAnswer: neutral\",\n",
       "  \"Who were those men? asked Ca'daan.\\nCa'daan wished he knew each of the men.\\nAnswer: neutral\",\n",
       "  'million tons in 2008, and to 1.7 million tons in 2018, and - Decreasing mercury emissions by 69 percent by implementing the first-ever national cap on mercury\\nThe first ever mercury national cap will reduce emissions by over 69% and all birds to lay more eggs.\\nAnswer: neutral',\n",
       "  'Joe Bananas, 23 Luard Road, is a Wan Chai mainstay for all-night partying.\\nJoe Bananas is the one and only place for all-night partying in Wan Chai.\\nAnswer: neutral',\n",
       "  'Others may feel that the money would be better spent in paying the defense industry not to produce the latest round of high-tech weaponry, thus saving us the expense of generating still more lethal weapons when the current crop inevitably falls into the hands of our enemies.\\nLethal weapons often fall into the hands of our enemies.\\nAnswer: neutral',\n",
       "  \"it would it if you can beat Chicago Atlanta shouldn't be that much different\\nYou can beat Atlanta since you have already defeated Chicago.\\nAnswer: neutral\",\n",
       "  'Luxor temple does not have a sound and light show but it is open late each evening, offering you a chance to enjoy the majestic remains under floodlights, a very romantic sight to behold.\\nLuxor temple does not usually open in the morning.\\nAnswer: neutral',\n",
       "  'In the event that the Administrator is unable, for any reason, to promulgate allocation regulations on a timely basis, Section 424 provides a default method for distributing the allowances, without promulgation of regulations, in advance of the year for which the allowances are necessary so that owners and operators can plan for compliance.\\n Section 424 took four months to write and finalize.\\nAnswer: neutral',\n",
       "  'Bauer : Son of janitor.\\nBauer is a man.\\nAnswer: neutral',\n",
       "  '30 Therefore, the increased activity of the last few years has been a welcome change to boilermakers.\\nBoilermakers now enjoy benefits they did not have before.\\nAnswer: neutral',\n",
       "  'He showed no signs of buckling under physical work that would have killed him on his own world.\\nThe work involved handling wild tigers while covered in sheep blood.\\nAnswer: neutral',\n",
       "  'In 1974, the radical historian Eugene Genovese (who has since become a Catholic conservative) published Roll, Jordan,  The World the Slaves Made . Now a staple in college history courses, Roll, Jordan, Roll painted a picture of slaves not as mere victims of oppression but as creators of a vibrant life.\\nThe book was a hit, and showed many pictures of awful slave conditions.\\nAnswer: neutral',\n",
       "  'With its variety of landscapes and ever-changing light, the Lake District offers never-ending opportunities for outdoor photographers.\\nThere are many places in the Lake District that are good for indoor photography.\\nAnswer: neutral',\n",
       "  \"These persons should also know enough about performance or capability validation techniques to determine whether or not the agency's requirements are reasonable and effective.\\nThe requirements are effective and reasonable.\\nAnswer: neutral\",\n",
       "  'when do you get out\\nWhen do you get out of prison? \\nAnswer: neutral',\n",
       "  \"you know go through and figure out because most of the people you don't a lot of them you don't have any knowledge of and just go in and just arbitrarily voting all Republican or all Democrat i try to i try to find out a little bit about them\\nA big problem with the country is that no one knows what they're voting for.\\nAnswer: neutral\",\n",
       "  \"GAO's plan presents four strategic goals that will help the Congress perform its constitutional responsibilities and ensure GAO's ability to continue providing effective, quality support to its clients.\\nThe clients of GAO are happy with the results of GAO strategies. \\nAnswer: neutral\",\n",
       "  'Rivera pointed out that helping clients, many of whom are not native English speakers, becomes problematic as demands increase and funding to the Legal Services Corp. remains stagnant.\\nRivera thinks there needs to be an increase in funding.\\nAnswer: neutral',\n",
       "  'It did not slow him.\\nIt was not strong enough to slow him, despite its efforts.\\nAnswer: neutral',\n",
       "  'Then he remembered, and looked at his watch.\\nIt suddenly came to his mind that he scheduled an appointment and checked the current time immediately.\\nAnswer: neutral',\n",
       "  'what was your favorite all time movie\\nIs your favorite movie an action movie?\\nAnswer: neutral',\n",
       "  'But the actors and the movie drew most of the publicity.\\nThe actors of the movie are well loved and well received.\\nAnswer: neutral',\n",
       "  'Those two areas are already connected by I-85 and I-385.\\nThose cities are connected by the highways.\\nAnswer: neutral',\n",
       "  'The parish church, the Eglise Sainte-Croix, is worth a visit for the splendid 16th-century altarpiece by Jean Bongartz of Colmar.\\nThe Eglise Sainte-Croix has beautiful stained glass windows.\\nAnswer: neutral',\n",
       "  'Besides salaries, company managers view a good working environment and awards and recognition as essential for retaining employees.\\nSome managers have trouble identifying who their employees are.\\nAnswer: neutral',\n",
       "  'On the south side of the choir is the more modest tomb of the most heroic of medieval English kings, portrayed recumbent above the inscription in Here is buried the heart of King Richard of England, known as the Lion-Hearted. \\nRichard the Lionhearted is buried in the most modest tomb in the church.\\nAnswer: neutral',\n",
       "  \"She has ignored Mick's please for forgiveness over his affair with Brazilian beauty Luciana Giminez Morad, the paper said.\\nShe ignore Mick's please for forgiveness over his long time affair with an elderly Brazilian beauty, according to the paper.\\nAnswer: neutral\",\n",
       "  'This time, they were looking for a candidate who knew how to speak the language of love.\\nA candidate who could speak the language of love would make people open their hearts to him.\\nAnswer: neutral',\n",
       "  'and uh World War II debts have never been repaid i think the US just wrote them all off\\nMost war debts go unpaid, and this is no exception.\\nAnswer: neutral',\n",
       "  'do you know of any incidences of of of uh erroneous\\nAre you familiar with any errors the machine may have made.\\nAnswer: neutral',\n",
       "  'Dinner only, daily 7 10pm.\\nThey only serve dinner and you must make reservations.\\nAnswer: neutral',\n",
       "  'Behavior in the Human Male , in its impulse toward acceptance and liberation, the broad and generous desire for others not to be harshly judged.\\nAcceptance and liberation cause males not to harshly judge others.\\nAnswer: neutral',\n",
       "  'exactly sure\\nexactly that.\\nAnswer: neutral',\n",
       "  \"yeah it's going to cut off the circulation yeah yeah i i think i tried that one time a couple years ago and it did the same did that same thing\\nI do not recommend doing that since you can hurt yourself.\\nAnswer: neutral\",\n",
       "  \"well it just means that if you don't pollute right or you pollute very little you don't have to pay any tax or you just buy one of these things and it it um i mean you could you could probably devise them so that it slowly closed off your tail pipe and uh the less you pollute the longer the device lasts and if you pollute a lot then it closed off your tailpipe and you couldn't start your car anymore\\nThe device could be a major success against pollution.\\nAnswer: neutral\",\n",
       "  \"i hope it's not my  you there\\nI hope it's not my car alarm.\\nAnswer: neutral\",\n",
       "  'Yet, the New England Journal of Medicine downplayed the risks at the time.\\nThe New England Journal of Medicine has bad management.\\nAnswer: neutral',\n",
       "  'For the followers of Andrew Jackson, the destruction of the Second Bank of the United States was the panacea; for the disciples of William Jennings Bryan, the panacea was silver coinage; for the followers of Ronald Reagan, supply-side economics was the crackpot quick fix.\\nRonald Reagan had many followers who looked up to him.\\nAnswer: neutral',\n",
       "  'Now, the Ministry of Justice shares the square with banks, famous jewelers, and the Ritz Hotel.\\nThe Ministry of Justice is close to the Banks\\nAnswer: neutral',\n",
       "  'It charts the history of Scotland, bringing under one roof a number of important collections of artifacts.\\nThe history of Scotland is shown from 1300 to 1900.\\nAnswer: neutral',\n",
       "  'Marcus Garvey called for black self-reliance, and Alexander Bustamante formed the Industrial Trade Union and later the Jamaica Labour Party (JLP).\\nMarcus Garvey and Alexander Bustamante worked together to improve the lives of black workers.\\nAnswer: neutral',\n",
       "  'In Sevila, you can see relics and manuscripts and even the habit St. Theresa wore in a remarkable life of prayer, penance, and poverty.\\nSevila has all those religious tinkers thanks to its rich history.\\nAnswer: neutral'],\n",
       " 'contradiction': [\"You know, I turned it on, entered all the data, and it said that Robi would come home drunk and start throwing the furniture out the window, so I hadn't even bothered to clean.\\nThe data said that Robi would come home and go to sleep.\\nAnswer: contradiction\",\n",
       "  \"But come instead for the spectacular view from the 297-m- (974-ft-) high Salto di Tiberio (Tiberius' Leap) precipice, said to be the last pleasure enjoyed by the emperor's enemies before they were hurled over the edge.\\nTiberius' Leap is off limits to tourists.\\nAnswer: contradiction\",\n",
       "  \"The king died here among cherished paintings'a fantastic triptych by Hieronymus Bosch and works on religious themes by German, Flemish, and Italian artists.\\nThe king did not die along cherished artworks.\\nAnswer: contradiction\",\n",
       "  'Monitoring, reporting, and recordkeeping requirements. \\nThere were no requirements established for recordkeeping.\\nAnswer: contradiction',\n",
       "  'The song  A Room with a View,  which Coward wrote in 1928, inspired him to build the house on this spot.\\nThe song A Room with a View, which Jackson wrote in 1983, inspired him to build Neverland Ranch.\\nAnswer: contradiction',\n",
       "  'He made his capital at Memphis in Lower Egypt (near present-day Cairo) and the first Dynasty was founded.\\nThe capital of Lower Egypt was Nashville.\\nAnswer: contradiction',\n",
       "  'most people never from north when we mention having black eye peas and corn bread and green onions\\nEveryone that we meet from the north knows exactly what black eye peas and corn bread are.\\nAnswer: contradiction',\n",
       "  \"Ajami's heroes are figures such as Egypt's novelist Naguib Mahfuz, the Palestinian academic Sari Nusseibah, and the tragic Hawi--men of integrity imbued with the old, confident spirit of cosmopolitanism and an openness to the Western ideas that led to the Arab awakening in the first place.\\nThe Arab Awakening strictly forbids Western influence.\\nAnswer: contradiction\",\n",
       "  \"In revamping its performance management system, for example, we reported that IRS' new system is weakest at the front line, where interactions with taxpayers occur.\\nWe said that the IRS's new system is strongest at the front line.\\nAnswer: contradiction\",\n",
       "  'Both long and short-term exposures to ambient levels of air pollution have been associated with increased risk of premature mortality.\\nThe long term exposure to air pollution is healthy.\\nAnswer: contradiction',\n",
       "  'Without rust after 1600 years worth of monsoon, this monument to the Hindu god Vishnu is said to have special if you stand with your back against it and completely encircle it with your arms no mean feat good luck is yours for the rest of the day.\\nAfter years of monsoons, the monument is now covered in rust.\\nAnswer: contradiction',\n",
       "  \"it's almost the opposite now where the the woman is working and and they you know take the children to child care or maybe they work part-time or something\\nIt isn't directly opposite now to the location where the woman is working.\\nAnswer: contradiction\",\n",
       "  'CLEANUP COSTS - The costs of removing, containing, and/or disposing of (1) hazardous waste from property, or (2) material and/or property that consists of hazardous waste at permanent or temporary closure or shutdown of associated PP&amp;E.\\nHazardous waste disposal does not often require PP&E.\\nAnswer: contradiction',\n",
       "  'Innovative use has been made of outdoor facilities for summer festivals, especially Roman ruins and medieval monasteries.\\nAll of the ruins and preserved and no one is allowed near them.\\nAnswer: contradiction',\n",
       "  '7.28 Staff planning should include, among other things,\\nNo staff planning is scheduled on 7.28.\\nAnswer: contradiction',\n",
       "  'He spread it out on the table. \\nHe stood there, chill.\\nAnswer: contradiction',\n",
       "  'If that happened, I think all the candidates would be forced to take a position on the issue.\\nThey were praying that the candidate would drop the issue.\\nAnswer: contradiction',\n",
       "  'To savor the abundant flavors of L.A., you need a taste for adventure, a car (ideally), and a good map.\\nL.A. only has a single flavour.\\nAnswer: contradiction',\n",
       "  'The Secretaries have determined that there is good cause under Section 553(b) of the Administrative Procedure Act to not issue a notice of proposed rulemaking because it would be impracticable, unnecessary, or contrary to the public interest.\\nThe Secretaries did not read the Administrative Procedure Act.\\nAnswer: contradiction',\n",
       "  'DNA evidence shows that Neanderthals were not our ancestors.\\nNeanderthals are definitely our ancestors. \\nAnswer: contradiction',\n",
       "  'than before\\nNot anymore, no, and never in the past or future.\\nAnswer: contradiction',\n",
       "  'Gore is delighted to reciprocate.\\nGore would be incredibly unhappy with reciprocating.\\nAnswer: contradiction',\n",
       "  'the dogs more sullen the farther up you went, and Russian and Roman churches below, the sunlight on the river, the bridge empty, the outer one half-hidden, I was shocked by the sudden distance\\nAs you went further up, the dogs got friendlier.\\nAnswer: contradiction',\n",
       "  'There are several intricately carved steatite vessels, including the Harvesters Vase discovered at Aghaa Triada and decorated with a low relief of men at work in the fields.\\nthe Harvesters Vase was excavated at a site in Athens.\\nAnswer: contradiction',\n",
       "  \"oh really  well you're not supposed to admit that\\nIt is okay to say that.\\nAnswer: contradiction\",\n",
       "  'yeah during during when the war was real hot and heavy we just had it on CNN all day long\\nAs long as the war was going on, we kept CNN off.\\nAnswer: contradiction',\n",
       "  'The racial divide is particularly pronounced on the lower end of the economic scale.\\nThe racial divide is easiest to see among the wealthy.\\nAnswer: contradiction',\n",
       "  \"Zelon acknowledges that she makes an effort to ensure that jurors leave her courtroom with a sense of confidence in the organization of courtroom proceedings and the effectiveness of the trial-by-jury system.\\nThe jurors are demoralized by Zelon's methods.\\nAnswer: contradiction\",\n",
       "  'Severn looked confused but nodded.\\nSevern was too confused to nod--he required further explanation.\\nAnswer: contradiction',\n",
       "  'Julius patted her on the shoulder.\\nJulius would not even look at her.\\nAnswer: contradiction',\n",
       "  'We search. \\nWe read.\\nAnswer: contradiction',\n",
       "  \"As the Church regained ground, it promoted a more triumphant image, epitomized by the works of Bernini, the most productive of them  His grandiose Baroque altar in St. Peter's speaks rather effectively to the time.\\nBernini's works poked fun at the Church and their triumphant image.\\nAnswer: contradiction\",\n",
       "  \"Critics don't like the book any more than the essay.\\nCritics are not a fan of the essay and prefer the book.\\nAnswer: contradiction\",\n",
       "  \"and no i'm not i'm just like you a person on the uh phone\\nI'm nobody\\nAnswer: contradiction\",\n",
       "  'John Cavendish joined us, and one or two of the servants were standing round in a state of awe-stricken excitement. \\nThere was no one else around when John Cavendish joined us.\\nAnswer: contradiction',\n",
       "  'Albright is on his side.\\nAlbright is neutral in the case.\\nAnswer: contradiction',\n",
       "  \"The Austin center will expand services provided by the Telephone Access to Justice call center in San Antonio, where St. Mary's University School of Law students man the phones.\\nThe students refused to help at all.\\nAnswer: contradiction\",\n",
       "  'Somebody else assumes the chief role.\\nNobody has assumed the chief role.\\nAnswer: contradiction',\n",
       "  'Kitchell\\'d give a lot to git a hoss like that to run south.\" \\nKitchell wanted the hoss to run north.\\nAnswer: contradiction',\n",
       "  \"um-hum yeah i don't understand that either that's that's tough\\nI get it.\\nAnswer: contradiction\",\n",
       "  \"Henry established expeditions that ultimately succeeded in redefining Europeans' very understanding of the world.\\nHenry never traveled out of his home time. \\nAnswer: contradiction\",\n",
       "  'Quality and prices vary.\\nQuality and price is the same. \\nAnswer: contradiction',\n",
       "  'The gay-rights debate turns on whether homosexuality is more like the former or the latter.\\nThe straight rights debate turns on whether homosexuals have a place in society.\\nAnswer: contradiction',\n",
       "  'Safed, Jaffa, and Ein Hod (near Haifa) are the main provincial centres.\\nThere is only one provincial center, and that is Safed.\\nAnswer: contradiction',\n",
       "  'Then he put the thought of Tuppence resolutely aside.\\nHe remained entranced of thoughts of Tuppence.\\nAnswer: contradiction',\n",
       "  \"The ratio of these estimates is 1.9784.\\nA ratio for the estimates can't be calculated.\\nAnswer: contradiction\",\n",
       "  \"i don't think he's going to get a head coaching job this next year\\nEvery team is in a bidding war to get him as coach this year.\\nAnswer: contradiction\",\n",
       "  'As a member of the New York Civil Liberties Union, she sat on the board of directors and discussed issues before the union, such as the proposed Nazi march in Skokie, Ill., in the late 1970s.\\nThe New York Liberties Union did not allow her to sit on the board of directors.\\nAnswer: contradiction',\n",
       "  'Hopefully some of those twenty will fall crossing the river.\\nTwenty people are avoiding the river.\\nAnswer: contradiction',\n",
       "  \"They won't take honest work.\\nThey have been looking for honest work everywhere they can.\\nAnswer: contradiction\",\n",
       "  \"Despite occasional tensions, perhaps inevitable in times of economic uncertainty, today French people increasingly recognize that the immigrants from France's departements in the West Indies and from former colonies ' Algeria, Tunisia, and Morocco ' enrich the national culture and add spice to the country's cuisine.\\nFrench people never recognize immigrants' contributions towards any facet of society.\\nAnswer: contradiction\",\n",
       "  'With cooling sea breezes and good sandy beaches it offers all the basic ingredients needed for a relaxing vacation; Egyptian hoteliers and restaurateurs are working hard to provide the rest.\\nEgypt offers anything but a relaxing vacation.\\nAnswer: contradiction',\n",
       "  'Shortly after, the buzz began to spread.\\nIt took a while for information about it to go around.\\nAnswer: contradiction',\n",
       "  'Postal Rate Commission Postal Rate Commission\\nThey did not have a postal rate commission.\\nAnswer: contradiction',\n",
       "  'In this strategic capacity, CIOs take the lead role in integrating information and technology management and performance across the entire information life cycle.\\nWith respect to IT performance, CIOs take orders from CFOs. \\nAnswer: contradiction',\n",
       "  \"oh yeah that's right well we'll find out later  they've got this all reported i guess\\nThey didn't report anything, I'm pretty sure about it.\\nAnswer: contradiction\",\n",
       "  'On your left the Dining Hall, designed by Richard Castle, has been falling down ever since it was finished in the 1740s and has undergone frequent rebuilding.\\nThe Dining Hall has remained in excellent condition throughout the years and has never undergone any form of repair work. \\nAnswer: contradiction',\n",
       "  'For a second, I could hear background noise from the other end of the line; a brief burst of ambient sound.\\nThe line stayed completely silent.\\nAnswer: contradiction',\n",
       "  'I can go in and search and pull up an attorney interested in child abuse and neglect, so when I get a case, I can target it, she says.\\nSearching for attorneys interested in child abuse cases is not possible.\\nAnswer: contradiction',\n",
       "  \"you you take care bye-bye\\nHello, it's nice to see you.\\nAnswer: contradiction\",\n",
       "  \"Why don't you respond that, in the infinite wisdom of your procrastination, you somehow divined the marriage would be a dud, and you think you will give this one a similar two year trial period?\\nWhy didn't you say that you knew this marriage would be a success?\\nAnswer: contradiction\",\n",
       "  \"A low-ceilinged room in one of the buildings has been venerated for centuries as the Tomb of King David.\\nKing David isn't even dead so it's impossible for him to have a tomb there.\\nAnswer: contradiction\",\n",
       "  \"When Giuliani vetoed Talk 's party site and told the press it was unimportant and irrelevant, all he did was make the magazine important and relevant.\\nGiuliani did not veto Talk's party site.\\nAnswer: contradiction\",\n",
       "  'The Environmental Quality Incentives Program (EQIP) is a new conservation program, reflecting the functions of four previous programs--the Agricultural Conservation Program, the Great Plains Conservation Program, the Water Quality Incentives Program, and the Colorado River Basin Salinity Control Program.\\nFour new conservation programs, including the Colorado River Basin Salinity Control Program, have been created to replace the Environmental Quality Incentives Program.\\nAnswer: contradiction',\n",
       "  'well what do you think about like a device a meter on right on a tailpipe and you paid a tax based on how much you polluted\\nSo what if they did away with tax altogether and people could pollute as much as they wanted to?\\nAnswer: contradiction',\n",
       "  'He has received favorable press coverage for opening schools and permitting markets in his remote northern stronghold.\\nThe press despised him and bashed him at every chance. \\nAnswer: contradiction',\n",
       "  'All other villages are already burned.\\nNone of the villages were burned.\\nAnswer: contradiction',\n",
       "  '\"\\'Wet horse\\' band?\" Callie glanced at him a little sharply.\\nCallie ignored him and did not say anything.\\nAnswer: contradiction',\n",
       "  'As Baudelaire put it in his essay The Painter of Modern Life: All the complicated material conditions to which [dandies] submit, from an impeccable toilette at every hour ...\\nBaudelair accuses dandies of being degenerate slobs prone to living with a thick layer of filth upon their living quarters.\\nAnswer: contradiction',\n",
       "  \"no now she's now she's just she's just rearranging all my papers for me she's playing with the pen uh-huh  why don't you play with the keyboard\\nShe left my pen and papers alone. \\nAnswer: contradiction\",\n",
       "  'The humidification system will typically consist of water spray injectors (possibly air atomized) located upstream of the ACI injectors, a grid for the spray injectors, and a water supply system that will include pumping and metering systems.\\nDe-humidification systems use a constant fire supply system.\\nAnswer: contradiction',\n",
       "  \"The 30-m- (100-ft-) high Campanile, built in 1853 by Sir Charles Lanyon, houses the university's bells.\\nThe Campanile is less than 10ft in height.\\nAnswer: contradiction\",\n",
       "  \"The point isn't that polls are dishonest.\\nThe point that is being made is about dishonest polls.  \\nAnswer: contradiction\",\n",
       "  \"'Oh.'\\nGreat!\\nAnswer: contradiction\",\n",
       "  'One day a young man fell and broke his leg high up on his hip.\\nThe man just broke all of the bones in his foot when he fell.\\nAnswer: contradiction',\n",
       "  \"well you know what i was hoping i was hoping Iran was going to take a very um dramatic stand and invade you know and and like Iran's the big bad guy you know but really if if they were going to save people's lives\\nThey weren't going to save lives.\\nAnswer: contradiction\",\n",
       "  \"In the latter, the director used farce not to lighten the drama but to darken it, so that the slapstick debacles seemed to spring from the hero's roiling unconscious.\\nFarce was used by the director to lighten the mood of the drama.\\nAnswer: contradiction\",\n",
       "  \"What make do you like? \\nYou don't like any of these, do you?\\nAnswer: contradiction\",\n",
       "  \"The remaining costs are institutional costs that are primarily driven by the size of the network.\\nThe remaining costs are institutional ones that are driven by the investors' desire.\\nAnswer: contradiction\",\n",
       "  'But he was very upset. \\nHe was happy. \\nAnswer: contradiction',\n",
       "  'But the engraving cost is a steep $175 and $42 for the die plate.\\nThe price is very low for engraving and the die plate.\\nAnswer: contradiction',\n",
       "  \"Today it houses a number of museums, the most important of which is the Musee de l'Arm??e (Museum of the Army), with exhibits stretching as far back as the Stone Age.\\nThe Museum of the Army has exhibits starting from World War I.\\nAnswer: contradiction\",\n",
       "  'An RFP may be preceded by a request for information or request for quotation.\\nAn RFP is always the first order of business followed by a request for information.\\nAnswer: contradiction',\n",
       "  'Each stop lasts for a total of three minutes.\\nThe bus never stops.\\nAnswer: contradiction',\n",
       "  'On the south side of the station is Market Street, which was one of the principle market sites during the Victorian era.\\nThere are no streets named Market Street on the south side.\\nAnswer: contradiction',\n",
       "  'offices have, through Senate and House intranet connections to GAO, access to the objectives, scope, and methodology of active GAO assignments, except for those cases where the reporting of such work would result in disclosing classified or other sensitive information.\\nEach office has wireless internet connections.\\nAnswer: contradiction',\n",
       "  'Problems of Reliability and Validity in Ethnographic Research.\\nThe research had no problems with validity.\\nAnswer: contradiction',\n",
       "  \"The only truly inspired segments of American Pie feature the amazing Eugene Levy as Biggs' dad, who's always walking in on the kid in the middle of some creative bout of wanking.\\nEugene Levy is not a very good actor and didn't play the role of Biggs' father well.\\nAnswer: contradiction\",\n",
       "  'Damage to the immune system Altered renal function and renal hypertrophy Reproductive effects\\nIt had nothing to do with the immune system.\\nAnswer: contradiction',\n",
       "  'Historically important Toledo seemed secure in the role.\\nToledo did not seem like the right city for the role. \\nAnswer: contradiction',\n",
       "  'They may, if they so desire, do additional research.\\nThey are not capable of doing any further research.\\nAnswer: contradiction',\n",
       "  \"Before long, however, many of these projects went bust, and Nelson had to turn to his family for financial assistance to ward off bankruptcy.\\nNelson's projects were very successful, and he bought his family a new house.\\nAnswer: contradiction\",\n",
       "  'do you read\\nDo you write?\\nAnswer: contradiction',\n",
       "  'she likes to sew and do crafts and things like that so she enjoys staying at home but uh the money part of it is not as rewarding obviously but\\nShe despises staying at home, so she found a new job.\\nAnswer: contradiction',\n",
       "  '3 Grease the presentation.\\nThere are no presentations.\\nAnswer: contradiction',\n",
       "  \"i guess if you gave the gave them jobs that that's another problem with the United States there's no jobs anymore\\nThere are plenty of available jobs in the US.\\nAnswer: contradiction\",\n",
       "  \"but she seems to me to be you know pretty quick and smart and she's already reading and writing and stuff like that and she just turned five last month\\nShe can't read at all.\\nAnswer: contradiction\",\n",
       "  \"and you'll you'll get a collection from them the you wouldn't believe there were so many parks in the state\\nYou can't get a collection from them. \\nAnswer: contradiction\",\n",
       "  'we went in but what did we do we lost lives and and what were we trying to do who knows\\nWe did not lose lives.\\nAnswer: contradiction',\n",
       "  \"and see there's no secrecy to that because the bill always comes in and we know how much they pay for it\\nI got bills and loans but it is a secret to most.\\nAnswer: contradiction\"]}"
      ]
     },
     "execution_count": 61,
     "metadata": {},
     "output_type": "execute_result"
    }
   ],
   "source": [
    "train_samples"
   ]
  },
  {
   "cell_type": "code",
   "execution_count": 62,
   "id": "ff5a5dc5",
   "metadata": {},
   "outputs": [
    {
     "data": {
      "text/plain": [
       "[{'query': 'The new rights are nice enough\\nEveryone really likes the newest benefits \\nAnswer:',\n",
       "  'gold_answer': 'neutral'},\n",
       " {'query': 'This site includes a list of all award winners and a searchable database of Government Executive articles.\\nThe Government Executive articles housed on the website are not able to be searched.\\nAnswer:',\n",
       "  'gold_answer': 'contradiction'},\n",
       " {'query': \"uh i don't know i i have mixed emotions about him uh sometimes i like him but at the same times i love to see somebody beat him\\nI like him for the most part, but would still enjoy seeing someone beat him.\\nAnswer:\",\n",
       "  'gold_answer': 'entailment'},\n",
       " {'query': \"yeah i i think my favorite restaurant is always been the one closest  you know the closest as long as it's it meets the minimum criteria you know of good food\\nMy favorite restaurants are always at least a hundred miles away from my house. \\nAnswer:\",\n",
       "  'gold_answer': 'contradiction'},\n",
       " {'query': \"i don't know um do you do a lot of camping\\nI know exactly.\\nAnswer:\",\n",
       "  'gold_answer': 'contradiction'},\n",
       " {'query': \"Calcutta seems to be the only other production center having any pretensions to artistic creativity at all, but ironically you're actually more likely to see the works of Satyajit Ray or Mrinal Sen shown in Europe or North America than in India itself.\\nMost of Mrinal Sen's work can be found in European collections.\\nAnswer:\",\n",
       "  'gold_answer': 'neutral'},\n",
       " {'query': 'If that investor were willing to pay extra for the security of limited downside, she could buy put options with a strike price of $98, which would lock in her profit on the shares at $18, less whatever the options cost.\\nTHe strike price could be $8.\\nAnswer:',\n",
       "  'gold_answer': 'contradiction'},\n",
       " {'query': '3)  Dare you rise to the occasion, like Raskolnikov, and reject the petty rules that govern lesser men?\\nWould you rise up and defeaat all evil lords in the town?\\nAnswer:',\n",
       "  'gold_answer': 'neutral'},\n",
       " {'query': 'The most important directions are simply up and up leads eventually to the cathedral and fortress commanding the hilltop, and down inevitably leads to one of three gates through the wall to the new town.\\nGo downwards to one of the gates, all of which will lead you into the cathedral.\\nAnswer:',\n",
       "  'gold_answer': 'contradiction'},\n",
       " {'query': \"The bhakti movement of the Tamils brought a new warmth to the hitherto rigid Brahmanic ritual of Hinduism.\\nThe Tamils' bhakti movement froze the previously warm ritual of Hinduism.\\nAnswer:\",\n",
       "  'gold_answer': 'contradiction'},\n",
       " {'query': 'You and your friends are not welcome here, said Severn.\\nSevern said the people were not welcome there.\\nAnswer:',\n",
       "  'gold_answer': 'entailment'},\n",
       " {'query': \"um-hum um-hum yeah well uh i can see you know it's it's it's it's kind of funny because we it seems like we loan money you know we money with strings attached and if the government changes and the country that we loan the money to um i can see why the might have a different attitude towards paying it back it's a lot us that  you know we don't really loan money to to countries we loan money to governments and it's the\\nWe don't loan a lot of money.\\nAnswer:\",\n",
       "  'gold_answer': 'neutral'},\n",
       " {'query': \"i'm not sure what the overnight low was\\nI don't know how cold it got last night.\\nAnswer:\",\n",
       "  'gold_answer': 'entailment'},\n",
       " {'query': '5 The share of gross national saving used to replace depreciated capital has increased over the past 40 years.\\nGross national saving was highest this year.\\nAnswer:',\n",
       "  'gold_answer': 'neutral'},\n",
       " {'query': 'So far, however, the number of mail pieces lost to alternative bill-paying methods is too small to have any material impact on First-Class volume.\\nThe amount of lost mail is huge and really impacts mail volume\\nAnswer:',\n",
       "  'gold_answer': 'contradiction'},\n",
       " {'query': \"you want to punch the button and go\\nYou don't want to push the button lightly, but rather punch it hard.\\nAnswer:\",\n",
       "  'gold_answer': 'neutral'},\n",
       " {'query': 'Buffet and a\\xa0 la carte available.\\nIt has a buffet.\\nAnswer:',\n",
       "  'gold_answer': 'entailment'},\n",
       " {'query': 'We also have found that leading organizations strive to ensure that their core processes efficiently and effectively support mission-related outcomes.\\nLeading organizations want to be sure their employees are safe.\\nAnswer:',\n",
       "  'gold_answer': 'neutral'},\n",
       " {'query': \"Sorry but that's how it is.\\nThis is how things are and there are no apologies about it.\\nAnswer:\",\n",
       "  'gold_answer': 'contradiction'},\n",
       " {'query': \"Not quite as large is the Papal Crose commemorating Pope John Paul II's visit in 1979, when more than one million people gathered to celebrate mass.\\nPope John Paul II also visited in 1983.\\nAnswer:\",\n",
       "  'gold_answer': 'neutral'},\n",
       " {'query': 'She seemed so different  \"\\nShe had changed a lot since the last time we\\'d seen her.\\nAnswer:',\n",
       "  'gold_answer': 'neutral'},\n",
       " {'query': 'The census of 1931 served as an alarm signal for the Malay national consciousness.\\nThe 1931 Malay census was an alarm bell.\\nAnswer:',\n",
       "  'gold_answer': 'entailment'},\n",
       " {'query': 'Mortifyingly enough, it is all  the difficulty, the laziness, the pathetic formlessness in youth, the round peg in the square hole, the whatever do you want?\\nMany youth are lazy.\\nAnswer:',\n",
       "  'gold_answer': 'entailment'},\n",
       " {'query': \"Britain's best-selling tabloid, the Sun , announced as a front-page world exclusive Friday that Texan model Jerry Hall has started divorce proceedings against aging rock star Mick Jagger at the High Court in London.\\nThere is a British publication called the Sun.\\nAnswer:\",\n",
       "  'gold_answer': 'entailment'},\n",
       " {'query': 'He was of two minds, one reveled in the peace of this village.\\nHe loved how peaceful the village was.\\nAnswer:',\n",
       "  'gold_answer': 'entailment'},\n",
       " {'query': \"Table 2: Examples of BLM's, FHWA's, IRS's, and VBA's Customer Satisfaction Expectations for Senior Executive Performance\\nSenior Executive's have been studies on various aspects to reach the expectations.\\nAnswer:\",\n",
       "  'gold_answer': 'entailment'},\n",
       " {'query': \"What's truly striking, though, is that Jobs has never really let this idea go.\\nJobs never held onto an idea for long.\\nAnswer:\",\n",
       "  'gold_answer': 'contradiction'},\n",
       " {'query': 'But to you, who know the truth, I propose to read certain passages which will throw some light on the extraordinary mentality of this great man.\" He opened the book, and turned the thin pages.\\nThere is no information on the mentality of the man, extraordinary or not, contained within the thin-paged book. \\nAnswer:',\n",
       "  'gold_answer': 'contradiction'},\n",
       " {'query': 'He had never felt better.\\nThe medicine he had taken had worked well.\\nAnswer:',\n",
       "  'gold_answer': 'neutral'},\n",
       " {'query': 'Similarly, OIM revised the electronic Grant Renewal Application to accommodate new information sought by LSC and to ensure greater ease for users.\\nChanges were made to the Grant Renewal Application to provide extra information to the LSC.\\nAnswer:',\n",
       "  'gold_answer': 'entailment'}]"
      ]
     },
     "execution_count": 62,
     "metadata": {},
     "output_type": "execute_result"
    }
   ],
   "source": [
    "test_data"
   ]
  },
  {
   "cell_type": "code",
   "execution_count": 64,
   "id": "2528db79",
   "metadata": {},
   "outputs": [
    {
     "name": "stdout",
     "output_type": "stream",
     "text": [
      "{'query': 'The new rights are nice enough\\nEveryone really likes the newest benefits \\nAnswer:', 'gold_answer': 'neutral'}\n"
     ]
    }
   ],
   "source": [
    "for query in test_data : \n",
    "    print(query)\n",
    "    break"
   ]
  },
  {
   "cell_type": "code",
   "execution_count": 63,
   "id": "6e51db05",
   "metadata": {},
   "outputs": [
    {
     "name": "stdout",
     "output_type": "stream",
     "text": [
      "entailment\n",
      "[\"I know lawyers are always dreadfully careful.\\nI'm well aware that lawyers are always very careful.\\nAnswer: entailment\", \"Nearby, the atmospheric medieval Alfama district is Lisbon's most picturesque and fascinating area.\\nThe most fascinating area in Lisbon is the Alfama district.\\nAnswer: entailment\", 'Mussolini annexes Abyssinia (Ethiopia), bombs  Republican Spain\\nMussolini gained new land.\\nAnswer: entailment', \"yeah yeah right right right how many hours are you taking\\nYeah, tell me how many hours you're taking. \\nAnswer: entailment\", 'The United States responded by deploying U.S. naval forces in the region.\\nThe response from the US was sending US naval forces to the area.\\nAnswer: entailment', 'When pollsters talk about a representative sample they mean a sampling that accurately reflects the population at large.\\nThey speak in regards to an accurate section of society at large.\\nAnswer: entailment', 'You can be easily suckered into just such another fight.\\nThere might be another fight.\\nAnswer: entailment', 'Since cost-benefit analysis is critical to over-coming resistance to implementation, research groups should include health care economists or health services researchers.\\nCost-benefit analysis is critical to over-coming resistance to implementation\\nAnswer: entailment', 'Rooms were free as we spoke.\\nRooms freed as we talked.\\nAnswer: entailment', 'They will discover something new each time.\\nEach time they will find something new.\\nAnswer: entailment', 'whatever they are i i do i find and and they go alone with that just the things you get in the mail\\nI receive items in the mail.\\nAnswer: entailment', 'How maddening, cried Tuppence.\\nTuppence thought it was maddening.\\nAnswer: entailment', 'Next to the church, the prison-like building with those fierce, barred windows was, in fact, a prison when it was built in the 17th century.\\nA prison was built in the 17th century next to the church.\\nAnswer: entailment', 'JFMIP requirements documents identify (1) a framework for financial management systems, (2) core financial systems requirements, and (3) 16 other financial and mixed systems supporting agency operations, not all of which are applicable to all agencies.\\nJFMIP requirements include a framework for the financial management systems.\\nAnswer: entailment', 'Medieval penitents traced its path on hands and knees, from the circumference to the center, a symbolic spiritual journey.\\nThe path was traced with their hands and knees.\\nAnswer: entailment', \"uh yeah and i'm going well well i don't want to gamble so i just let the car cool off until i get a hard failure\\nI play it safe with my car.\\nAnswer: entailment\", \"well no i mean they're not allowed to accept any new inmates\\nThey are not permitted to accept new inmates.  \\nAnswer: entailment\", 'i only get the newspaper on the weekends so\\nI only receive the weekend newspaper.\\nAnswer: entailment', \"In a minute, when I've done with you, you'll go to bed as I told you to.\\nWhen I finish what I'm doing to you, you can sleep as instructed. \\nAnswer: entailment\", 'Rapid Alcohol Problems Screen.\\nSpecific problems screen. \\nAnswer: entailment', 'SO2 and NOx contribute to acid deposition, which damages lakes and streams, adversely affecting the fish and other species that live in them, and leaches nutrients from the soil.\\nSO2 contributes to the damaging of lakes and streams.\\nAnswer: entailment', \"Zoffany used the East India Company men as models, with the painter's sworn enemy, Mr. Paull, as Judas.\\nZoffany painted the men from the East India Company as well as his archnemesis, Mr. Paull.\\nAnswer: entailment\", \"It should be seen as affirming the fact of Christ's presence, but not as explaining how the change takes place.\\nIt is proof that Christ exists.\\nAnswer: entailment\", 'The tank is encircled by small sculptured deities and coiled snakes.\\nSculptures of little deities and snakes surround the tank.\\nAnswer: entailment', 'What British historians call the Peninsular War (1808 1814) is known in Spain as the War of Independence.\\nThe War of Independence in Spain was called the Peninsular War by the British.\\nAnswer: entailment', 'so we just stopped there uh you know had some breakfast got some water and kept on walking\\nWe stopped and had breakfast and then kept walking.\\nAnswer: entailment', 'Lowering pound rates or raising breakpoints may benefit some mailers, but it will also have a negative impact on others who find themselves dealing, for example, with higher piece rates and the like.\\nChanging the rates will both benefit and hurt different mailers.\\nAnswer: entailment', \"' All of President Clinton's untruths, all of his lying under oath, if you will, about an extramarital relationship does not subvert the Constitution (Schumer).\\nThe Constitution does not specify about extramarital relationships.  \\nAnswer: entailment\", 'What he ought to have done, what any sane man would have done, was to remain patiently where he was and wait for his man to come out again.\\nHe should have waited for the man to come out again.\\nAnswer: entailment', 'Even if you used Add/Remove on Internet Explorer, Wininet.dll, Urlmon.dll, and Mshtml.dll are still there.\\nParts of Internet Explorer are not removed with the normal process.\\nAnswer: entailment', \"but their homes have passed on to their uh children or or to younger younger families and they don't seem to maintain it as well as the original people did i or or like you would or i would and perhaps its just it's\\nA lot of houses have been passed on to children who don't care to maintain it as well as the original owners.\\nAnswer: entailment\", 'Congress would not have needed to add the certification provision to protect the presidential advisers if their records were not within the scope of GAOas access authority.\\nThe certification provision would not need to be added.\\nAnswer: entailment', 'oh really hm i wonder why it does\\nI wonder why it does that.\\nAnswer: entailment', 'It was like a fog.\\nIt was hazy.\\nAnswer: entailment', \"um-hum well actually excuse me our dental insurance you know it's it's good it's certainly better than nothing it's not you know it's not super you for unfortunately in my case and you sound like a younger guy so you probably don't have it you know i do have some dental problems and it's very very expensive\\nOur dental insurance does what it's supposed to do.\\nAnswer: entailment\", 'Blithe investors toss millions at the Web out of the conviction that it will subsume the other media, change the face of capitalism, and generate billion-dollar payouts.\\nCareless investors throw money into the Web, thinking it will get them huge profits.\\nAnswer: entailment', 'Poirot went on. \\nPoirot continued.\\nAnswer: entailment', \"Artists still scorn it as a vulgar pastiche, and the working-class residents of the area resented its being erected as a symbol of penitence for the insurrection of the 1871 Commune they didn't feel penitent in the least.\\nIt did not reflect the sentiment of the area.\\nAnswer: entailment\", \"so because you always put your phone number down so they can call and tell you that you won\\nSo you put your phone number down so they can all you and tell you that you're the winner\\nAnswer: entailment\", 'Some want to paint Democrats as soft on defense.\\nSome want others to think Democrats are soft on defense.\\nAnswer: entailment', \"The Administration on Aging and the Agency for Toxic Substances and Disease Registry) did not list rules that were available for comment.\\nThe Administration on Aging didn't list the rules that could be commented on.\\nAnswer: entailment\", 'But nothing can prepare you for the visual shock of the Sistine Chapel (Cappella Sistina), built for Sixtus IV in the 15th century.\\nThe Cappella Sistina, built in the 1400s, is a visual shock.\\nAnswer: entailment', 'No, it is as Auden says.\\nIt is how Auden says it is, so no. \\nAnswer: entailment', 'LSC has developed performance guidelines for assessing grant applications.\\nThe grants had performance standards tied to the applications.\\nAnswer: entailment', 'Just below this lies the Tomb of the Prophets, believed to be the burial place of Haggai, Malachi, and Zechariah.\\nThe Tomb of the Prophets where Haggai, Malachi, and Zechariah are said to be found is just below this.\\nAnswer: entailment', 'ah certainly is\\nIt is. \\nAnswer: entailment', 'A piece claims George W. Bush and Al Gore are spiritual twins.\\nThe piece identified Al Gore and George W. Bush as spiritual twins.\\nAnswer: entailment', 'Poland lost a significant amount of territory after new borders were drawn up in the Yalta Agreement in 1945, including the eastern regions around Wilno (Vilnius) and Lwew (Lvov).\\nAfter new borders were drawn up in the Yalta Agreement in 1945, Poland lost a significant amount of territory, ncluding the eastern regions around Wilno (Vilnius) and Lwew (Lvov).\\nAnswer: entailment', 'There was a roar of tortured air from overhead and a thundering sound that was unlike anything except the tearing of an infinity of cloth combined with a sustained explosion of atomic bombs.\\nThere was a big roar and a thundering noise from above.\\nAnswer: entailment', 'our estimate of the total number of premature mortalities in 2020 would be reduced by approximately 80 percent, from approximately 12,000 annually to approximately 2,200 annually.\\nThe number of premature moralities in 2020 would go down 80%.\\nAnswer: entailment', \"The Senate passed compromise patients' rights legislation.\\nPatients' rights legislation was passed by the Senate.\\nAnswer: entailment\", 'The choir stalls, carved to illustrate the lives of the saints, are attributed to the 16th-century Dutch master known as Cornelius de Holanda.\\nThe choir stalls illustrate the lives of the saints.\\nAnswer: entailment', \"The Jardim do Pal?¡cio do Monte (Monte Palace Tropical Gardens), a short walk east of the church, is firmly rooted in the past.\\nA short walk to the church's east will take you to the Monte Palace Tropical Gardens.\\nAnswer: entailment\", 'They are welcome to this cause.\\nThey are accepted to be a part of this cause. \\nAnswer: entailment', 'VA Health  More Veterans Are Being Served, But Better Oversight Is Needed (GAO/HEHS-98-226, Aug. 28, 1998).\\nVA Health more veterans are being served\\nAnswer: entailment', 'TRANSACTIONS WITH THE PUBLIC\\npublic transactions\\nAnswer: entailment', 'The major ones, in the western group, are in a beautifully kept park with paths leading easily from one to the other.\\nThere are paths going from one major one to another.\\nAnswer: entailment', '999 percent reliable voice-recognition software.\\nThe voice recognition software was almost infallible.\\nAnswer: entailment', 'To get the stationery engraved, the die plate will cost $56, about average.\\nThe cost is neither cheap nor expensive.\\nAnswer: entailment', \"It'd be malpractice not to.\\nIt would be a poor descision not to. \\nAnswer: entailment\", 'They continued to sit in silence.\\nThey were quiet as they sat. \\nAnswer: entailment', \"he's Eldon her housepainter\\nEldon is her house painter.\\nAnswer: entailment\", \"before they didn't but i know they're going to start now\\nThey are going to start now.\\nAnswer: entailment\", 'Interestingly, they were Creole French offspring of French nationals born in Montreal.\\nFrench citizens born in Montreal had children who were Creole French.\\nAnswer: entailment', 'We failed when we pushed willing, but unprepared grantees to opportunities they were not ready to exploit.\\nIt was wrong to push the grantees into opportunities they were not ready for.\\nAnswer: entailment', \"oh yeah it's funny some of their necks don't get broken\\nTheir necks could be broken.\\nAnswer: entailment\", \"Jon looked down and met Susan's green eyes.\\nJon saw Susan. \\nAnswer: entailment\", 'The home town of the maharajas regains a flicker of its old glory every October during the Dussehra festival, when the heir of the old rulers of Mysore State is paraded through the streets on his golden throne, surrounded by gorgeously caparisoned elephants .\\nThe Dussehra festival takes place in October with a parade that is viewed by many people.\\nAnswer: entailment', 'uh you know Communism would feed them all\\nCommunism is able to feed all of them\\nAnswer: entailment', 'Buchanan was the hit of the United We Stand Convention in 1995 and enjoys good relations with Perot.\\nBuchanan was the hit of the United We Stand Convention.\\nAnswer: entailment', 'Italian artists Futurists Giovanni Fattori and Telemaco Signorini and the Ferrara trio of Filippo de Pisis, Carlo Carr?\\xa0, and Giorgio de Chirico are better represented than other Europeans, of whom Matisse, Klee, and Ernst are the most notable.\\nThere are not as many German artists as Italian ones in the collection.\\nAnswer: entailment', \"In the end, people were reluctant to make a complete change until 1981, when the forces for reform gathered sufficient strength to elect Francois Mitterrand as the Fifth Republic's first Socialist president.\\nIt wasn't until 1981 that people were willing to elect Fifth Republic's first Socialist president.\\nAnswer: entailment\", \"The dead woman had not the gift of commanding love. \\nThe dead woman didn't command love.\\nAnswer: entailment\", \"Meanwhile, Japan--the world's second-largest economy and a country that by normal criteria ought to have no trouble increasing demand--finds itself stuck in exactly the trap Burnham  no longer able to find uses for the available investment funds, which waste in idleness in the account books of the banks.\\nAs a large economy, Japan is expected to easily increase demand. \\nAnswer: entailment\", \"Poland's war-torn and almost incomprehensibly fractured history plays out like an epic novel occasionally triumphant, frequently sad and tragic.\\nSometimes, Poland's history can be tragic and sad.\\nAnswer: entailment\", 'Lawrence Cavendish was then put into the box. \\nLawrence Cavendish was then led into the box.\\nAnswer: entailment', \"Ann Lewis (The public's  -1 )\\nAnne Lewis is public's 1 \\nAnswer: entailment\", 'Look for the servant girl hurtled into hell for flirting with the devil.\\nAs a result of flirting with the devil, the servant girl was hurtled into hell.\\nAnswer: entailment', 'But this presented a new testing challenge, namely that anything in the street in New York City is fair game.\\nThe new challenge was that anything goes in the streets of New York City.\\nAnswer: entailment', \"But what were Lawrence Cavendish's finger-marks doing on it? \\nHow come we found Lawrence Cavendish's finger-marks on it?\\nAnswer: entailment\", 'I took her across town, to see the lab.\\nMe and her went to see lab. \\nAnswer: entailment', 'However, our survey of federal managers, conducted in late 1996 and 1997, indicates there is substantial room for improvement in this area.\\nOur survey of federal managers was conducted in the late 1996 and 1997.\\nAnswer: entailment', 'We did our best, though it may be that the auspices were too strong on the soma.\\nThere are some auspices too strong for somas.\\nAnswer: entailment', \"As I said before, I'm a mutt! returned Julius.\\nJulius is of mixed heritage. \\nAnswer: entailment\", 'There needs to be a sense of urgency in order to make the investment, commitment, and ultimately change the model.\\nThe model can only be changed if there is a sense of urgency.\\nAnswer: entailment', \"you know and uh i was brought up the same way if if it doesn't matter what age you have if just so long as you can get up to go to class the next morning you can stay up you know but his what he does is when he gets home he separates his his work from his house\\nAll that matters is that you go to class.\\nAnswer: entailment\", 'The meetings were held around the country and included environmental organizations, businesses, state and local governments, tribal governments, and other stakeholders.\\nEnvironmental organizations, businesses, state and local governments were included in the meetings.\\nAnswer: entailment', 'he was a teacher\\nHe worked as a teacher\\nAnswer: entailment', \"He'd almost managed to forget what he was, and he didn't enjoy having the aircraft worker find out.\\nHe didn't like having the aircraft worker discover what he was.\\nAnswer: entailment\", \"But not a penny piece besides, not a pair of gloves, nor a theatre ticket.' She didn't understand, was very offended sometimes. \\nShe couldn't comprehend.\\nAnswer: entailment\", 'They are soon disposed of afterwards.\" 62 There was a sinister note in his voice.\\nMenacingly, he said that they would be disposed of.\\nAnswer: entailment', \"um well with guys pretty healthy appetite i'd probably go a third of a pound and then you know you could\\nBecause the guy has a healthy appetite you should stick with a third of a pound.\\nAnswer: entailment\", \"I should act more freaked out.\\nI should act like I'm really scared.\\nAnswer: entailment\", \"well we don't do much eating out\\nWe don't go out to eat much.\\nAnswer: entailment\", \"well me i'm going and my daughter down in Austin\\nMy daughter lives in Austin.\\nAnswer: entailment\", '7 billion of these dollars was for a contingency, a hedge against the unknown---to cover unforeseen events.\\nThe hedge fund was worth 7 billion dollars.\\nAnswer: entailment', \"I've tried to think of everything. Sir James smiled.\\nSir James was smiling when he tried to think of everything.\\nAnswer: entailment\", 'The number of computer users at these organizations ranged from 3,500 to 100,000, and four had significant international operations.\\nFour of these organizations had significant international operations.\\nAnswer: entailment', 'This makes the book subclass very inefficient at serving those for whom it was established.\\nThe book does not work well for whom it was written.\\nAnswer: entailment', 'However, the team used a method, learned in the CAP workshop, for analyzing and increasing stakeholder commitment levels.\\nThe method for increasing stakeholder commitment used by the team came from the CAP workshop.\\nAnswer: entailment']\n"
     ]
    }
   ],
   "source": [
    "for nli_class, samples in train_samples.items():\n",
    "    print(nli_class)\n",
    "    print(samples)\n",
    "    break"
   ]
  },
  {
   "cell_type": "markdown",
   "id": "01caddef",
   "metadata": {
    "id": "01caddef"
   },
   "source": [
    "As you know by now, language models only produce a probability distribution over the vocabulary, so how many tokens to generate and how to select each token depends on the decoding algorithm. Since we are going to use GPT-4o mini model, we should get familiar with what type of decoding parameters OpenAI API offers:\n",
    "\n",
    "**max_tokens**: Maximum number of tokens to generate, by default generates as many as needed.\n",
    "\n",
    "**temperature**: Sampling temperature to use, between 0.0 and 2.0, default to 1.0. Higher values like 0.8 will make the output more random, while lower values like 0.2 will make it more focused and deterministic.\n",
    "\n",
    "**top_p**: Nucleus sampling factor (alternative to sampling with temperature), between 0.0 and 1.0, default to 1.0. The model randomly samples from the tokens with top_p probability mass.\n",
    "\n",
    "**presence_penalty**: Between -2.0 and 2.0, default to 0.0. Positive values penalize new tokens based on whether they appear in the text so far, increasing the model's likelihood to talk about new topics.\n",
    "\n",
    "**frequency_penalty**: Between -2.0 and 2.0, default to 0.0. Positive values penalize new tokens based on their existing frequency in the text so far, decreasing the model's likelihood to repeat the same line verbatim."
   ]
  },
  {
   "cell_type": "markdown",
   "id": "HN3X2CRHdUmW",
   "metadata": {
    "id": "HN3X2CRHdUmW"
   },
   "source": [
    "For NLI task, we choose a small *max_tokens* because only the first non-space token generated by the model is used as the predicted class (i.e., verbalizer).\n",
    "\n",
    "**Question:**\n",
    "Why don't we simply set it to 1?\n",
    "\n",
    "We also change the *temperature* to 0 in order to let the model make deterministic classification decisions."
   ]
  },
  {
   "cell_type": "code",
   "execution_count": 7,
   "id": "ab3bc651",
   "metadata": {
    "id": "ab3bc651"
   },
   "outputs": [],
   "source": [
    "model_args={\"max_tokens\": 5, \"temperature\": 0.0, \"top_p\": 1.0, \"presence_penalty\": 0.0, \"frequency_penalty\": 0.0}"
   ]
  },
  {
   "cell_type": "markdown",
   "id": "4ab97e5d",
   "metadata": {
    "id": "4ab97e5d"
   },
   "source": [
    "You will evaluate the model's NLI performance based on the accuracy and F1 scores on each class."
   ]
  },
  {
   "cell_type": "code",
   "execution_count": 40,
   "id": "f6129f62",
   "metadata": {
    "id": "f6129f62"
   },
   "outputs": [],
   "source": [
    "def evaluate_nli(predictions, gold_labels, mapping):\n",
    "    \n",
    "    counter = np.zeros((3, 3))  # three-class confusion matrix\n",
    "    \n",
    "    # calculate the confusion matrix\n",
    "    for p, g in zip(predictions, gold_labels):\n",
    "        pid = mapping[p]\n",
    "        gid = mapping[g]\n",
    "        counter[gid][pid] += 1\n",
    "    \n",
    "    print(\"Confusion Matrix:\")\n",
    "    print(counter)\n",
    "    \n",
    "    pred_sum = np.sum(counter, axis=0)  # total number of predictions on each class\n",
    "    gold_sum = np.sum(counter, axis=1)  # total number of test samples (gold labels) on each class\n",
    "    diag = np.diagonal(counter)  # total number of correct predictions on each class\n",
    "    \n",
    "    acc = np.sum(diag) / np.sum(counter)  # accuracy\n",
    "    \n",
    "    f1 = [0, 0, 0]\n",
    "    for cid in range(3):\n",
    "        precision = diag[cid] / pred_sum[cid] if pred_sum[cid] != 0 else 0  # precisions on each class\n",
    "        recall = diag[cid] / gold_sum[cid] if gold_sum[cid] != 0 else 0  # recalls on each class\n",
    "        f1[cid] = 2 * precision * recall / (precision + recall) if precision != 0 and recall != 0 else 0  # F1 scores on each class\n",
    "    \n",
    "    return acc, f1[0], f1[1], f1[2]"
   ]
  },
  {
   "cell_type": "markdown",
   "id": "d886b1c6",
   "metadata": {
    "id": "d886b1c6"
   },
   "source": [
    "You will use the following function to perform GPT-4o mini inference on the NLI task based on in-context learning."
   ]
  },
  {
   "cell_type": "code",
   "execution_count": 41,
   "id": "5f6a5730",
   "metadata": {},
   "outputs": [
    {
     "name": "stdout",
     "output_type": "stream",
     "text": [
      "entailment\n",
      "[\"I know lawyers are always dreadfully careful.\\nI'm well aware that lawyers are always very careful.\\nAnswer: entailment\", \"Nearby, the atmospheric medieval Alfama district is Lisbon's most picturesque and fascinating area.\\nThe most fascinating area in Lisbon is the Alfama district.\\nAnswer: entailment\", 'Mussolini annexes Abyssinia (Ethiopia), bombs  Republican Spain\\nMussolini gained new land.\\nAnswer: entailment', \"yeah yeah right right right how many hours are you taking\\nYeah, tell me how many hours you're taking. \\nAnswer: entailment\", 'The United States responded by deploying U.S. naval forces in the region.\\nThe response from the US was sending US naval forces to the area.\\nAnswer: entailment', 'When pollsters talk about a representative sample they mean a sampling that accurately reflects the population at large.\\nThey speak in regards to an accurate section of society at large.\\nAnswer: entailment', 'You can be easily suckered into just such another fight.\\nThere might be another fight.\\nAnswer: entailment', 'Since cost-benefit analysis is critical to over-coming resistance to implementation, research groups should include health care economists or health services researchers.\\nCost-benefit analysis is critical to over-coming resistance to implementation\\nAnswer: entailment', 'Rooms were free as we spoke.\\nRooms freed as we talked.\\nAnswer: entailment', 'They will discover something new each time.\\nEach time they will find something new.\\nAnswer: entailment', 'whatever they are i i do i find and and they go alone with that just the things you get in the mail\\nI receive items in the mail.\\nAnswer: entailment', 'How maddening, cried Tuppence.\\nTuppence thought it was maddening.\\nAnswer: entailment', 'Next to the church, the prison-like building with those fierce, barred windows was, in fact, a prison when it was built in the 17th century.\\nA prison was built in the 17th century next to the church.\\nAnswer: entailment', 'JFMIP requirements documents identify (1) a framework for financial management systems, (2) core financial systems requirements, and (3) 16 other financial and mixed systems supporting agency operations, not all of which are applicable to all agencies.\\nJFMIP requirements include a framework for the financial management systems.\\nAnswer: entailment', 'Medieval penitents traced its path on hands and knees, from the circumference to the center, a symbolic spiritual journey.\\nThe path was traced with their hands and knees.\\nAnswer: entailment', \"uh yeah and i'm going well well i don't want to gamble so i just let the car cool off until i get a hard failure\\nI play it safe with my car.\\nAnswer: entailment\", \"well no i mean they're not allowed to accept any new inmates\\nThey are not permitted to accept new inmates.  \\nAnswer: entailment\", 'i only get the newspaper on the weekends so\\nI only receive the weekend newspaper.\\nAnswer: entailment', \"In a minute, when I've done with you, you'll go to bed as I told you to.\\nWhen I finish what I'm doing to you, you can sleep as instructed. \\nAnswer: entailment\", 'Rapid Alcohol Problems Screen.\\nSpecific problems screen. \\nAnswer: entailment', 'SO2 and NOx contribute to acid deposition, which damages lakes and streams, adversely affecting the fish and other species that live in them, and leaches nutrients from the soil.\\nSO2 contributes to the damaging of lakes and streams.\\nAnswer: entailment', \"Zoffany used the East India Company men as models, with the painter's sworn enemy, Mr. Paull, as Judas.\\nZoffany painted the men from the East India Company as well as his archnemesis, Mr. Paull.\\nAnswer: entailment\", \"It should be seen as affirming the fact of Christ's presence, but not as explaining how the change takes place.\\nIt is proof that Christ exists.\\nAnswer: entailment\", 'The tank is encircled by small sculptured deities and coiled snakes.\\nSculptures of little deities and snakes surround the tank.\\nAnswer: entailment', 'What British historians call the Peninsular War (1808 1814) is known in Spain as the War of Independence.\\nThe War of Independence in Spain was called the Peninsular War by the British.\\nAnswer: entailment', 'so we just stopped there uh you know had some breakfast got some water and kept on walking\\nWe stopped and had breakfast and then kept walking.\\nAnswer: entailment', 'Lowering pound rates or raising breakpoints may benefit some mailers, but it will also have a negative impact on others who find themselves dealing, for example, with higher piece rates and the like.\\nChanging the rates will both benefit and hurt different mailers.\\nAnswer: entailment', \"' All of President Clinton's untruths, all of his lying under oath, if you will, about an extramarital relationship does not subvert the Constitution (Schumer).\\nThe Constitution does not specify about extramarital relationships.  \\nAnswer: entailment\", 'What he ought to have done, what any sane man would have done, was to remain patiently where he was and wait for his man to come out again.\\nHe should have waited for the man to come out again.\\nAnswer: entailment', 'Even if you used Add/Remove on Internet Explorer, Wininet.dll, Urlmon.dll, and Mshtml.dll are still there.\\nParts of Internet Explorer are not removed with the normal process.\\nAnswer: entailment', \"but their homes have passed on to their uh children or or to younger younger families and they don't seem to maintain it as well as the original people did i or or like you would or i would and perhaps its just it's\\nA lot of houses have been passed on to children who don't care to maintain it as well as the original owners.\\nAnswer: entailment\", 'Congress would not have needed to add the certification provision to protect the presidential advisers if their records were not within the scope of GAOas access authority.\\nThe certification provision would not need to be added.\\nAnswer: entailment', 'oh really hm i wonder why it does\\nI wonder why it does that.\\nAnswer: entailment', 'It was like a fog.\\nIt was hazy.\\nAnswer: entailment', \"um-hum well actually excuse me our dental insurance you know it's it's good it's certainly better than nothing it's not you know it's not super you for unfortunately in my case and you sound like a younger guy so you probably don't have it you know i do have some dental problems and it's very very expensive\\nOur dental insurance does what it's supposed to do.\\nAnswer: entailment\", 'Blithe investors toss millions at the Web out of the conviction that it will subsume the other media, change the face of capitalism, and generate billion-dollar payouts.\\nCareless investors throw money into the Web, thinking it will get them huge profits.\\nAnswer: entailment', 'Poirot went on. \\nPoirot continued.\\nAnswer: entailment', \"Artists still scorn it as a vulgar pastiche, and the working-class residents of the area resented its being erected as a symbol of penitence for the insurrection of the 1871 Commune they didn't feel penitent in the least.\\nIt did not reflect the sentiment of the area.\\nAnswer: entailment\", \"so because you always put your phone number down so they can call and tell you that you won\\nSo you put your phone number down so they can all you and tell you that you're the winner\\nAnswer: entailment\", 'Some want to paint Democrats as soft on defense.\\nSome want others to think Democrats are soft on defense.\\nAnswer: entailment', \"The Administration on Aging and the Agency for Toxic Substances and Disease Registry) did not list rules that were available for comment.\\nThe Administration on Aging didn't list the rules that could be commented on.\\nAnswer: entailment\", 'But nothing can prepare you for the visual shock of the Sistine Chapel (Cappella Sistina), built for Sixtus IV in the 15th century.\\nThe Cappella Sistina, built in the 1400s, is a visual shock.\\nAnswer: entailment', 'No, it is as Auden says.\\nIt is how Auden says it is, so no. \\nAnswer: entailment', 'LSC has developed performance guidelines for assessing grant applications.\\nThe grants had performance standards tied to the applications.\\nAnswer: entailment', 'Just below this lies the Tomb of the Prophets, believed to be the burial place of Haggai, Malachi, and Zechariah.\\nThe Tomb of the Prophets where Haggai, Malachi, and Zechariah are said to be found is just below this.\\nAnswer: entailment', 'ah certainly is\\nIt is. \\nAnswer: entailment', 'A piece claims George W. Bush and Al Gore are spiritual twins.\\nThe piece identified Al Gore and George W. Bush as spiritual twins.\\nAnswer: entailment', 'Poland lost a significant amount of territory after new borders were drawn up in the Yalta Agreement in 1945, including the eastern regions around Wilno (Vilnius) and Lwew (Lvov).\\nAfter new borders were drawn up in the Yalta Agreement in 1945, Poland lost a significant amount of territory, ncluding the eastern regions around Wilno (Vilnius) and Lwew (Lvov).\\nAnswer: entailment', 'There was a roar of tortured air from overhead and a thundering sound that was unlike anything except the tearing of an infinity of cloth combined with a sustained explosion of atomic bombs.\\nThere was a big roar and a thundering noise from above.\\nAnswer: entailment', 'our estimate of the total number of premature mortalities in 2020 would be reduced by approximately 80 percent, from approximately 12,000 annually to approximately 2,200 annually.\\nThe number of premature moralities in 2020 would go down 80%.\\nAnswer: entailment', \"The Senate passed compromise patients' rights legislation.\\nPatients' rights legislation was passed by the Senate.\\nAnswer: entailment\", 'The choir stalls, carved to illustrate the lives of the saints, are attributed to the 16th-century Dutch master known as Cornelius de Holanda.\\nThe choir stalls illustrate the lives of the saints.\\nAnswer: entailment', \"The Jardim do Pal?¡cio do Monte (Monte Palace Tropical Gardens), a short walk east of the church, is firmly rooted in the past.\\nA short walk to the church's east will take you to the Monte Palace Tropical Gardens.\\nAnswer: entailment\", 'They are welcome to this cause.\\nThey are accepted to be a part of this cause. \\nAnswer: entailment', 'VA Health  More Veterans Are Being Served, But Better Oversight Is Needed (GAO/HEHS-98-226, Aug. 28, 1998).\\nVA Health more veterans are being served\\nAnswer: entailment', 'TRANSACTIONS WITH THE PUBLIC\\npublic transactions\\nAnswer: entailment', 'The major ones, in the western group, are in a beautifully kept park with paths leading easily from one to the other.\\nThere are paths going from one major one to another.\\nAnswer: entailment', '999 percent reliable voice-recognition software.\\nThe voice recognition software was almost infallible.\\nAnswer: entailment', 'To get the stationery engraved, the die plate will cost $56, about average.\\nThe cost is neither cheap nor expensive.\\nAnswer: entailment', \"It'd be malpractice not to.\\nIt would be a poor descision not to. \\nAnswer: entailment\", 'They continued to sit in silence.\\nThey were quiet as they sat. \\nAnswer: entailment', \"he's Eldon her housepainter\\nEldon is her house painter.\\nAnswer: entailment\", \"before they didn't but i know they're going to start now\\nThey are going to start now.\\nAnswer: entailment\", 'Interestingly, they were Creole French offspring of French nationals born in Montreal.\\nFrench citizens born in Montreal had children who were Creole French.\\nAnswer: entailment', 'We failed when we pushed willing, but unprepared grantees to opportunities they were not ready to exploit.\\nIt was wrong to push the grantees into opportunities they were not ready for.\\nAnswer: entailment', \"oh yeah it's funny some of their necks don't get broken\\nTheir necks could be broken.\\nAnswer: entailment\", \"Jon looked down and met Susan's green eyes.\\nJon saw Susan. \\nAnswer: entailment\", 'The home town of the maharajas regains a flicker of its old glory every October during the Dussehra festival, when the heir of the old rulers of Mysore State is paraded through the streets on his golden throne, surrounded by gorgeously caparisoned elephants .\\nThe Dussehra festival takes place in October with a parade that is viewed by many people.\\nAnswer: entailment', 'uh you know Communism would feed them all\\nCommunism is able to feed all of them\\nAnswer: entailment', 'Buchanan was the hit of the United We Stand Convention in 1995 and enjoys good relations with Perot.\\nBuchanan was the hit of the United We Stand Convention.\\nAnswer: entailment', 'Italian artists Futurists Giovanni Fattori and Telemaco Signorini and the Ferrara trio of Filippo de Pisis, Carlo Carr?\\xa0, and Giorgio de Chirico are better represented than other Europeans, of whom Matisse, Klee, and Ernst are the most notable.\\nThere are not as many German artists as Italian ones in the collection.\\nAnswer: entailment', \"In the end, people were reluctant to make a complete change until 1981, when the forces for reform gathered sufficient strength to elect Francois Mitterrand as the Fifth Republic's first Socialist president.\\nIt wasn't until 1981 that people were willing to elect Fifth Republic's first Socialist president.\\nAnswer: entailment\", \"The dead woman had not the gift of commanding love. \\nThe dead woman didn't command love.\\nAnswer: entailment\", \"Meanwhile, Japan--the world's second-largest economy and a country that by normal criteria ought to have no trouble increasing demand--finds itself stuck in exactly the trap Burnham  no longer able to find uses for the available investment funds, which waste in idleness in the account books of the banks.\\nAs a large economy, Japan is expected to easily increase demand. \\nAnswer: entailment\", \"Poland's war-torn and almost incomprehensibly fractured history plays out like an epic novel occasionally triumphant, frequently sad and tragic.\\nSometimes, Poland's history can be tragic and sad.\\nAnswer: entailment\", 'Lawrence Cavendish was then put into the box. \\nLawrence Cavendish was then led into the box.\\nAnswer: entailment', \"Ann Lewis (The public's  -1 )\\nAnne Lewis is public's 1 \\nAnswer: entailment\", 'Look for the servant girl hurtled into hell for flirting with the devil.\\nAs a result of flirting with the devil, the servant girl was hurtled into hell.\\nAnswer: entailment', 'But this presented a new testing challenge, namely that anything in the street in New York City is fair game.\\nThe new challenge was that anything goes in the streets of New York City.\\nAnswer: entailment', \"But what were Lawrence Cavendish's finger-marks doing on it? \\nHow come we found Lawrence Cavendish's finger-marks on it?\\nAnswer: entailment\", 'I took her across town, to see the lab.\\nMe and her went to see lab. \\nAnswer: entailment', 'However, our survey of federal managers, conducted in late 1996 and 1997, indicates there is substantial room for improvement in this area.\\nOur survey of federal managers was conducted in the late 1996 and 1997.\\nAnswer: entailment', 'We did our best, though it may be that the auspices were too strong on the soma.\\nThere are some auspices too strong for somas.\\nAnswer: entailment', \"As I said before, I'm a mutt! returned Julius.\\nJulius is of mixed heritage. \\nAnswer: entailment\", 'There needs to be a sense of urgency in order to make the investment, commitment, and ultimately change the model.\\nThe model can only be changed if there is a sense of urgency.\\nAnswer: entailment', \"you know and uh i was brought up the same way if if it doesn't matter what age you have if just so long as you can get up to go to class the next morning you can stay up you know but his what he does is when he gets home he separates his his work from his house\\nAll that matters is that you go to class.\\nAnswer: entailment\", 'The meetings were held around the country and included environmental organizations, businesses, state and local governments, tribal governments, and other stakeholders.\\nEnvironmental organizations, businesses, state and local governments were included in the meetings.\\nAnswer: entailment', 'he was a teacher\\nHe worked as a teacher\\nAnswer: entailment', \"He'd almost managed to forget what he was, and he didn't enjoy having the aircraft worker find out.\\nHe didn't like having the aircraft worker discover what he was.\\nAnswer: entailment\", \"But not a penny piece besides, not a pair of gloves, nor a theatre ticket.' She didn't understand, was very offended sometimes. \\nShe couldn't comprehend.\\nAnswer: entailment\", 'They are soon disposed of afterwards.\" 62 There was a sinister note in his voice.\\nMenacingly, he said that they would be disposed of.\\nAnswer: entailment', \"um well with guys pretty healthy appetite i'd probably go a third of a pound and then you know you could\\nBecause the guy has a healthy appetite you should stick with a third of a pound.\\nAnswer: entailment\", \"I should act more freaked out.\\nI should act like I'm really scared.\\nAnswer: entailment\", \"well we don't do much eating out\\nWe don't go out to eat much.\\nAnswer: entailment\", \"well me i'm going and my daughter down in Austin\\nMy daughter lives in Austin.\\nAnswer: entailment\", '7 billion of these dollars was for a contingency, a hedge against the unknown---to cover unforeseen events.\\nThe hedge fund was worth 7 billion dollars.\\nAnswer: entailment', \"I've tried to think of everything. Sir James smiled.\\nSir James was smiling when he tried to think of everything.\\nAnswer: entailment\", 'The number of computer users at these organizations ranged from 3,500 to 100,000, and four had significant international operations.\\nFour of these organizations had significant international operations.\\nAnswer: entailment', 'This makes the book subclass very inefficient at serving those for whom it was established.\\nThe book does not work well for whom it was written.\\nAnswer: entailment', 'However, the team used a method, learned in the CAP workshop, for analyzing and increasing stakeholder commitment levels.\\nThe method for increasing stakeholder commitment used by the team came from the CAP workshop.\\nAnswer: entailment']\n"
     ]
    },
    {
     "data": {
      "text/plain": [
       "['he was a teacher\\nHe worked as a teacher\\nAnswer: entailment',\n",
       " 'I took her across town, to see the lab.\\nMe and her went to see lab. \\nAnswer: entailment',\n",
       " \"It should be seen as affirming the fact of Christ's presence, but not as explaining how the change takes place.\\nIt is proof that Christ exists.\\nAnswer: entailment\"]"
      ]
     },
     "execution_count": 41,
     "metadata": {},
     "output_type": "execute_result"
    }
   ],
   "source": [
    "\n",
    "examples = []\n",
    "for nli_class, samples in train_samples.items():\n",
    "    print(nli_class)\n",
    "    print(samples)\n",
    "    few_shot_samples = random.sample(samples, 3)\n",
    "    examples.extend(few_shot_samples)\n",
    "    break \n",
    "\n",
    "examples"
   ]
  },
  {
   "cell_type": "code",
   "execution_count": 42,
   "id": "092af2c1",
   "metadata": {},
   "outputs": [
    {
     "name": "stderr",
     "output_type": "stream",
     "text": [
      "  0%|          | 0/30 [00:00<?, ?it/s]"
     ]
    },
    {
     "name": "stdout",
     "output_type": "stream",
     "text": [
      "{'query': 'The new rights are nice enough\\nEveryone really likes the newest benefits \\nAnswer:', 'gold_answer': 'neutral'}\n",
      "['The new rights are nice enough\\nEveryone really likes the newest benefits \\nAnswer:']\n"
     ]
    },
    {
     "name": "stderr",
     "output_type": "stream",
     "text": [
      "\n"
     ]
    }
   ],
   "source": [
    "for qid, query in enumerate(tqdm(test_data)):\n",
    "    print(query)\n",
    "    print([query['query']])\n",
    "    break"
   ]
  },
  {
   "cell_type": "code",
   "execution_count": 43,
   "id": "7a878781",
   "metadata": {
    "id": "7a878781"
   },
   "outputs": [],
   "source": [
    "def gpt_nli(train_samples, test_data, shots, predictions, gold_answers,\n",
    "             instruction=None, default_class=\"neutral\", task_name=\"task\"):\n",
    "    \n",
    "    '''\n",
    "    train_samples: training data for sampling in-context examples\n",
    "    test_data: testing queries (with gold labels)\n",
    "    shots: number of in-context examples (shots) per class\n",
    "    predictions: cache for saving the model predictions\n",
    "    gold_answers: cache for saving gold answers\n",
    "    instruction: additional task instruction for prompting\n",
    "    default_class: default prediction class if the generated token is not among the verbalizers of three NLI classes\n",
    "    task_name: task name for creating chat sessions\n",
    "    '''\n",
    "    \n",
    "    # randomly sample in-context examples\n",
    "    examples = []\n",
    "    for nli_class, samples in train_samples.items():\n",
    "        few_shot_samples = random.sample(samples, shots[nli_class])\n",
    "        examples.extend(few_shot_samples)\n",
    "\n",
    "    random.shuffle(examples)  # randomly shuffle sampled in-context examples\n",
    "    \n",
    "\n",
    "    for qid, query in enumerate(tqdm(test_data)):\n",
    "        \n",
    "        if qid < len(predictions):  # skip this query if its model prediction is already saved in cache\n",
    "            continue\n",
    "\n",
    "        # TODO: Construct the prompt using the in-context examples and the testing query\n",
    "        prompt = '\\n\\n'.join(examples) + '\\n\\n' + query['query']\n",
    "\n",
    "        # create a chat session using our GPT wrapper class Chat\n",
    "        chat = Chat.create(name=task_name+\"_\"+str(qid))\n",
    "        \n",
    "        # use the created chat session to query the GPT model with the input request,\n",
    "        # and get back model's output message\n",
    "        response = chat.ask(prompt, instruction=instruction, model_args=model_args)\n",
    "        \n",
    "        # model's output text is in the attribute \"content\",\n",
    "        # we use the first word of the generated text as the prediction\n",
    "        preds = response.content.strip().split()\n",
    "\n",
    "        if preds:\n",
    "            pred = preds[0].lower()\n",
    "        else:\n",
    "            pred = default_class\n",
    "        \n",
    "        # save the prediction in cache\n",
    "        if pred in train_samples.keys():\n",
    "            predictions.append(pred)\n",
    "        else:\n",
    "            predictions.append(default_class)\n",
    "        \n",
    "        # save the gold answer in cache for evaluation\n",
    "        gold_answers.append(query[\"gold_answer\"])"
   ]
  },
  {
   "cell_type": "markdown",
   "id": "a6619024",
   "metadata": {
    "id": "a6619024"
   },
   "source": [
    "You will run the following function to perform GPT inference and evaluation."
   ]
  },
  {
   "cell_type": "code",
   "execution_count": 44,
   "id": "692af4be",
   "metadata": {
    "id": "692af4be"
   },
   "outputs": [],
   "source": [
    "def run(train_samples, test_data, class_shots, mapping, predictions, gold_answers,\n",
    "        instruction=None, default_class=\"neutral\", task_name=\"none\"):\n",
    "    try:\n",
    "\n",
    "        gpt_nli(train_samples, test_data, class_shots, predictions, gold_answers,\n",
    "                 instruction=instruction, default_class=default_class, task_name=task_name)\n",
    "        \n",
    "        acc, f1_ent, f1_neu, f1_con = evaluate_nli(predictions, gold_answers, mapping)\n",
    "        macro_f1 = (f1_ent + f1_neu + f1_con) / 3\n",
    "\n",
    "        print(f'Accuracy: {acc*100:.2f}% | F1: ({f1_ent*100:.2f}%, {f1_neu*100:.2f}%, {f1_con*100:.2f}%) | Macro-F1: {macro_f1*100:.2f}%')\n",
    "\n",
    "    except Exception as error:  # OpenAI ChatGPT endpoint may get stucked by too many queries from time to time\n",
    "        print(error)\n"
   ]
  },
  {
   "cell_type": "markdown",
   "id": "c90ea96b",
   "metadata": {
    "id": "c90ea96b"
   },
   "source": [
    "<a name=\"11\"></a>\n",
    "### **1.1 Compare Different Shots**\n",
    "\n",
    "In this part, you will compare GPT-4o mini performances under different shots (number) of in-context examples."
   ]
  },
  {
   "cell_type": "markdown",
   "id": "2f25d6a1",
   "metadata": {
    "id": "2f25d6a1"
   },
   "source": [
    "#### 0-shot classification:\n",
    "\n",
    "Do not provide any in-context learning examples to the model.\n",
    "\n",
    "Create empty caches for saving model predictions and gold answers."
   ]
  },
  {
   "cell_type": "code",
   "execution_count": 45,
   "id": "0ae867da",
   "metadata": {
    "id": "0ae867da"
   },
   "outputs": [],
   "source": [
    "predictions = []\n",
    "gold_answers = []"
   ]
  },
  {
   "cell_type": "markdown",
   "id": "3921da49",
   "metadata": {
    "id": "3921da49"
   },
   "source": [
    "Run the inference and evaluation.\n",
    "\n",
    "**Note:** OpenAI ChatGPT endpoint may sometimes get stucked by too many queries. If running the following cell gets stucked, just re-run it, and inference will continue from the stucked query. However, do not re-run the above cell for creating the caches, which will clear the already saved predictions."
   ]
  },
  {
   "cell_type": "code",
   "execution_count": 46,
   "id": "78fa56d7",
   "metadata": {
    "colab": {
     "base_uri": "https://localhost:8080/"
    },
    "executionInfo": {
     "elapsed": 22585,
     "status": "ok",
     "timestamp": 1681740282153,
     "user": {
      "displayName": "Silin Gao",
      "userId": "06208253100379244126"
     },
     "user_tz": -120
    },
    "id": "78fa56d7",
    "outputId": "1eea57e7-128d-4d68-e877-b3910de50084"
   },
   "outputs": [
    {
     "name": "stderr",
     "output_type": "stream",
     "text": [
      "100%|██████████| 30/30 [00:24<00:00,  1.20it/s]"
     ]
    },
    {
     "name": "stdout",
     "output_type": "stream",
     "text": [
      "Confusion Matrix:\n",
      "[[ 0. 10.  0.]\n",
      " [ 0. 10.  0.]\n",
      " [ 0. 10.  0.]]\n",
      "Accuracy: 33.33% | F1: (0.00%, 50.00%, 0.00%) | Macro-F1: 16.67%\n"
     ]
    },
    {
     "name": "stderr",
     "output_type": "stream",
     "text": [
      "\n"
     ]
    }
   ],
   "source": [
    "random.seed(seed)\n",
    "np.random.seed(seed)\n",
    "\n",
    "class_shots = {\"entailment\": 0, \"neutral\": 0, \"contradiction\": 0}\n",
    "mapping = {\"entailment\": 0, \"neutral\": 1, \"contradiction\": 2}\n",
    "\n",
    "run(train_samples, test_data, class_shots, mapping, predictions, gold_answers, task_name=\"1_1_shots0\")"
   ]
  },
  {
   "cell_type": "markdown",
   "id": "158536b5",
   "metadata": {
    "id": "158536b5"
   },
   "source": [
    "#### 1-shot per class:\n",
    "\n",
    "For each class, provide 1 in-context learning example sampled from the training data.\n",
    "\n",
    "Clear the caches."
   ]
  },
  {
   "cell_type": "code",
   "execution_count": 47,
   "id": "6bd54af4",
   "metadata": {
    "id": "6bd54af4"
   },
   "outputs": [],
   "source": [
    "predictions = []\n",
    "gold_answers = []"
   ]
  },
  {
   "cell_type": "markdown",
   "id": "a43cb520",
   "metadata": {
    "id": "a43cb520"
   },
   "source": [
    "Re-run the inference and evaluation"
   ]
  },
  {
   "cell_type": "code",
   "execution_count": 48,
   "id": "f544c0fd",
   "metadata": {
    "colab": {
     "base_uri": "https://localhost:8080/"
    },
    "executionInfo": {
     "elapsed": 23085,
     "status": "ok",
     "timestamp": 1681740311281,
     "user": {
      "displayName": "Silin Gao",
      "userId": "06208253100379244126"
     },
     "user_tz": -120
    },
    "id": "f544c0fd",
    "outputId": "655c95a4-1be4-45f0-d519-8fda494f85a1"
   },
   "outputs": [
    {
     "name": "stderr",
     "output_type": "stream",
     "text": [
      "100%|██████████| 30/30 [00:19<00:00,  1.54it/s]"
     ]
    },
    {
     "name": "stdout",
     "output_type": "stream",
     "text": [
      "Confusion Matrix:\n",
      "[[8. 2. 0.]\n",
      " [4. 4. 2.]\n",
      " [1. 0. 9.]]\n",
      "Accuracy: 70.00% | F1: (69.57%, 50.00%, 85.71%) | Macro-F1: 68.43%\n"
     ]
    },
    {
     "name": "stderr",
     "output_type": "stream",
     "text": [
      "\n"
     ]
    }
   ],
   "source": [
    "random.seed(seed)\n",
    "np.random.seed(seed)\n",
    "\n",
    "class_shots = {\"entailment\": 1, \"neutral\": 1, \"contradiction\": 1}\n",
    "mapping = {\"entailment\": 0, \"neutral\": 1, \"contradiction\": 2}\n",
    "\n",
    "run(train_samples, test_data, class_shots, mapping, predictions, gold_answers, task_name=\"1_1_shots1\")"
   ]
  },
  {
   "cell_type": "markdown",
   "id": "1f2eb071",
   "metadata": {
    "id": "1f2eb071"
   },
   "source": [
    "#### 2-shot per class:\n",
    "\n",
    "Try 2 in-context learning examples per class."
   ]
  },
  {
   "cell_type": "code",
   "execution_count": 49,
   "id": "3ae49ee1",
   "metadata": {
    "id": "3ae49ee1"
   },
   "outputs": [],
   "source": [
    "predictions = []\n",
    "gold_answers = []"
   ]
  },
  {
   "cell_type": "code",
   "execution_count": 50,
   "id": "143c7eba",
   "metadata": {
    "colab": {
     "base_uri": "https://localhost:8080/"
    },
    "executionInfo": {
     "elapsed": 23763,
     "status": "ok",
     "timestamp": 1681740340798,
     "user": {
      "displayName": "Silin Gao",
      "userId": "06208253100379244126"
     },
     "user_tz": -120
    },
    "id": "143c7eba",
    "outputId": "12d893fb-401c-433a-fd47-b77128db9275"
   },
   "outputs": [
    {
     "name": "stderr",
     "output_type": "stream",
     "text": [
      "100%|██████████| 30/30 [00:17<00:00,  1.74it/s]"
     ]
    },
    {
     "name": "stdout",
     "output_type": "stream",
     "text": [
      "Confusion Matrix:\n",
      "[[8. 2. 0.]\n",
      " [3. 6. 1.]\n",
      " [1. 0. 9.]]\n",
      "Accuracy: 76.67% | F1: (72.73%, 66.67%, 90.00%) | Macro-F1: 76.46%\n"
     ]
    },
    {
     "name": "stderr",
     "output_type": "stream",
     "text": [
      "\n"
     ]
    }
   ],
   "source": [
    "random.seed(seed)\n",
    "np.random.seed(seed)\n",
    "\n",
    "class_shots = {\"entailment\": 2, \"neutral\": 2, \"contradiction\": 2}\n",
    "mapping = {\"entailment\": 0, \"neutral\": 1, \"contradiction\": 2}\n",
    "\n",
    "run(train_samples, test_data, class_shots, mapping, predictions, gold_answers, task_name=\"1_1_shots2\")"
   ]
  },
  {
   "cell_type": "markdown",
   "id": "ae6f41c3",
   "metadata": {
    "id": "ae6f41c3"
   },
   "source": [
    "#### 3-shot per class:\n",
    "\n",
    "Try 3 in-context learning examples per class."
   ]
  },
  {
   "cell_type": "code",
   "execution_count": 51,
   "id": "c86dc6c2",
   "metadata": {
    "id": "c86dc6c2"
   },
   "outputs": [],
   "source": [
    "predictions = []\n",
    "gold_answers = []"
   ]
  },
  {
   "cell_type": "code",
   "execution_count": 52,
   "id": "32278700",
   "metadata": {
    "colab": {
     "base_uri": "https://localhost:8080/"
    },
    "executionInfo": {
     "elapsed": 22961,
     "status": "ok",
     "timestamp": 1681740372517,
     "user": {
      "displayName": "Silin Gao",
      "userId": "06208253100379244126"
     },
     "user_tz": -120
    },
    "id": "32278700",
    "outputId": "a8c0c8e6-ccb2-4912-d3d7-672f0ebe05a9"
   },
   "outputs": [
    {
     "name": "stderr",
     "output_type": "stream",
     "text": [
      "100%|██████████| 30/30 [00:22<00:00,  1.33it/s]"
     ]
    },
    {
     "name": "stdout",
     "output_type": "stream",
     "text": [
      "Confusion Matrix:\n",
      "[[9. 1. 0.]\n",
      " [3. 2. 5.]\n",
      " [1. 0. 9.]]\n",
      "Accuracy: 66.67% | F1: (78.26%, 30.77%, 75.00%) | Macro-F1: 61.34%\n"
     ]
    },
    {
     "name": "stderr",
     "output_type": "stream",
     "text": [
      "\n"
     ]
    }
   ],
   "source": [
    "random.seed(seed)\n",
    "np.random.seed(seed)\n",
    "\n",
    "class_shots = {\"entailment\": 3, \"neutral\": 3, \"contradiction\": 3}\n",
    "mapping = {\"entailment\": 0, \"neutral\": 1, \"contradiction\": 2}\n",
    "\n",
    "run(train_samples, test_data, class_shots, mapping, predictions, gold_answers, task_name=\"1_1_shots3\")"
   ]
  },
  {
   "cell_type": "markdown",
   "id": "fcca3308",
   "metadata": {
    "id": "fcca3308"
   },
   "source": [
    "**Questions:**\n",
    "\n",
    "1. Can model handle well the NLI task without in-context examples for learning (i.e., under the 0-shot setting)?\n",
    "2. Which class are the in-context examples most helpful for detecting? and most helpless?\n",
    "3. Is the more in-context examples the better?"
   ]
  },
  {
   "cell_type": "markdown",
   "id": "ae87231e",
   "metadata": {
    "id": "ae87231e"
   },
   "source": [
    "<a name=\"12\"></a>\n",
    "### **1.2 Effect of Neutral In-Context Examples**\n",
    "\n",
    "Try 3-shot in-context examples on the entailment and contradictions classes, but do not provide any examples on the neutral class."
   ]
  },
  {
   "cell_type": "code",
   "execution_count": 59,
   "id": "f6d78c89",
   "metadata": {
    "id": "f6d78c89"
   },
   "outputs": [],
   "source": [
    "predictions = []\n",
    "gold_answers = []"
   ]
  },
  {
   "cell_type": "code",
   "execution_count": 54,
   "id": "ae734042",
   "metadata": {
    "colab": {
     "base_uri": "https://localhost:8080/"
    },
    "executionInfo": {
     "elapsed": 23782,
     "status": "ok",
     "timestamp": 1681740411286,
     "user": {
      "displayName": "Silin Gao",
      "userId": "06208253100379244126"
     },
     "user_tz": -120
    },
    "id": "ae734042",
    "outputId": "16e483c8-122e-48bb-bd26-74d371cb136f"
   },
   "outputs": [
    {
     "name": "stderr",
     "output_type": "stream",
     "text": [
      "100%|██████████| 30/30 [00:21<00:00,  1.40it/s]"
     ]
    },
    {
     "name": "stdout",
     "output_type": "stream",
     "text": [
      "Confusion Matrix:\n",
      "[[10.  0.  0.]\n",
      " [ 6.  1.  3.]\n",
      " [ 1.  0.  9.]]\n",
      "Accuracy: 66.67% | F1: (74.07%, 18.18%, 81.82%) | Macro-F1: 58.02%\n"
     ]
    },
    {
     "name": "stderr",
     "output_type": "stream",
     "text": [
      "\n"
     ]
    }
   ],
   "source": [
    "random.seed(seed)\n",
    "np.random.seed(seed)\n",
    "\n",
    "class_shots = {\"entailment\": 3, \"neutral\": 0, \"contradiction\": 3}\n",
    "mapping = {\"entailment\": 0, \"neutral\": 1, \"contradiction\": 2}\n",
    "\n",
    "run(train_samples, test_data, class_shots, mapping, predictions, gold_answers, task_name=\"1_2\")"
   ]
  },
  {
   "cell_type": "code",
   "execution_count": 60,
   "id": "d822a3d6",
   "metadata": {},
   "outputs": [
    {
     "name": "stderr",
     "output_type": "stream",
     "text": [
      "100%|██████████| 30/30 [00:21<00:00,  1.40it/s]"
     ]
    },
    {
     "name": "stdout",
     "output_type": "stream",
     "text": [
      "Confusion Matrix:\n",
      "[[9. 1. 0.]\n",
      " [3. 2. 5.]\n",
      " [1. 0. 9.]]\n",
      "Accuracy: 66.67% | F1: (78.26%, 30.77%, 75.00%) | Macro-F1: 61.34%\n"
     ]
    },
    {
     "name": "stderr",
     "output_type": "stream",
     "text": [
      "\n"
     ]
    }
   ],
   "source": [
    "random.seed(seed)\n",
    "np.random.seed(seed)\n",
    "\n",
    "class_shots = {\"entailment\": 3, \"neutral\": 1, \"contradiction\": 3}\n",
    "mapping = {\"entailment\": 0, \"neutral\": 1, \"contradiction\": 2}\n",
    "\n",
    "run(train_samples, test_data, class_shots, mapping, predictions, gold_answers, task_name=\"1_2\")"
   ]
  },
  {
   "cell_type": "markdown",
   "id": "e8ef6a43",
   "metadata": {
    "id": "e8ef6a43"
   },
   "source": [
    "**Question:** Do you observe any difference here?"
   ]
  },
  {
   "cell_type": "markdown",
   "id": "77c56bf9",
   "metadata": {
    "id": "77c56bf9"
   },
   "source": [
    "<a name=\"13\"></a>\n",
    "### **1.3 Play with Different Verbalizers**\n",
    "\n",
    "In this part, you will try to use different verbalizers for this NLI classification task. Verbalizers are mapping functions that map the numeric class labels such as 0, 1 and 2 to human-readable class labels such \"entailment\", \"neutral\" and \"contradiction\". However, this mapping is by no means the only correct one and in theory, we can use any mapping we want. So, next instead of using *entailment*, *neutral* and *contradiction*, you will try the following two alternatives:\n",
    "\n",
    "- *positive*, *unrelated* and *negative*\n",
    "- *a*, *b* and *c*"
   ]
  },
  {
   "cell_type": "markdown",
   "id": "f9f7e4f2",
   "metadata": {
    "id": "f9f7e4f2"
   },
   "source": [
    "Build data with the above two different verbalizers."
   ]
  },
  {
   "cell_type": "code",
   "execution_count": 72,
   "id": "88f33a23",
   "metadata": {
    "id": "88f33a23"
   },
   "outputs": [],
   "source": [
    "mapping_to_pun = {\"entailment\": \"positive\", \"neutral\": \"unrelated\", \"contradiction\": \"negative\"}\n",
    "train_samples_pun = {\"positive\": [], \"unrelated\": [], \"negative\": []}\n",
    "test_data_pun = []\n",
    "\n",
    "mapping_to_abc = {\"entailment\": \"a\", \"neutral\": \"b\", \"contradiction\": \"c\"}\n",
    "train_samples_abc = {\"a\": [], \"b\": [], \"c\": []}\n",
    "test_data_abc = []\n",
    "\n",
    "for nli_class, samples in train_samples.items():\n",
    "    # TODO: Populate the new training data for the two new tasks where the NLI classes are verbalized as \"positive\", \"unrelated\", and \"negative\",\n",
    "    # and as \"a\", \"b\", and \"c\", respectively\n",
    "    nli_class_pun = mapping_to_pun[nli_class]\n",
    "    nli_class_abc = mapping_to_abc[nli_class]\n",
    "    \n",
    "    for sample in samples : \n",
    "        sample_pun = \" \".join(sample.split(\" \")[:-1] + [nli_class_pun])\n",
    "        train_samples_pun[nli_class_pun].append(sample_pun)\n",
    "        \n",
    "        sample_abc = \" \".join(sample.split(\" \")[:-1] + [nli_class_abc])\n",
    "        train_samples_abc[nli_class_abc].append(sample_abc)\n",
    "    \n",
    "for query in test_data:\n",
    "    # TODO: Populate the new testing data for the two new tasks where the gold answers are verbalized as \"positive\", \"unrelated\", and \"negative\",\n",
    "    # and as \"a\", \"b\", and \"c\", respectively\n",
    "    query_pun = query.copy()\n",
    "    query_abc = query.copy()\n",
    "    \n",
    "    query_pun['gold_answer'] = mapping_to_pun[query['gold_answer']]\n",
    "    query_abc['gold_answer'] = mapping_to_abc[query['gold_answer']]\n",
    "    \n",
    "    test_data_pun.append(query_pun)\n",
    "    test_data_abc.append(query_abc)\n",
    "    "
   ]
  },
  {
   "cell_type": "markdown",
   "id": "fc11b99e",
   "metadata": {
    "id": "fc11b99e"
   },
   "source": [
    "You can take a glance of the processed training and testing data with different verbalizers.\n",
    "\n",
    "Data with verbalizers *positive*, *unrelated* and *negative*"
   ]
  },
  {
   "cell_type": "code",
   "execution_count": 75,
   "id": "7ae7c0de",
   "metadata": {
    "colab": {
     "base_uri": "https://localhost:8080/"
    },
    "executionInfo": {
     "elapsed": 665,
     "status": "ok",
     "timestamp": 1681740449664,
     "user": {
      "displayName": "Silin Gao",
      "userId": "06208253100379244126"
     },
     "user_tz": -120
    },
    "id": "7ae7c0de",
    "outputId": "29004591-1864-44f3-e250-6bbbbba1cd03"
   },
   "outputs": [
    {
     "name": "stdout",
     "output_type": "stream",
     "text": [
      "Training Samples:\n",
      "I know lawyers are always dreadfully careful.\n",
      "I'm well aware that lawyers are always very careful.\n",
      "Answer: positive\n",
      "\n",
      "\n",
      "Testing Query:\n",
      "The new rights are nice enough\n",
      "Everyone really likes the newest benefits \n",
      "Answer:\n",
      "\n",
      "\n",
      "Gold Answer:\n",
      "unrelated\n"
     ]
    }
   ],
   "source": [
    "print(\"Training Samples:\")\n",
    "print(train_samples_pun[\"positive\"][0])\n",
    "print(\"\\n\")\n",
    "\n",
    "print(\"Testing Query:\")\n",
    "print(test_data_pun[0][\"query\"])\n",
    "print(\"\\n\")\n",
    "\n",
    "print(\"Gold Answer:\")\n",
    "print(test_data_pun[0][\"gold_answer\"])"
   ]
  },
  {
   "cell_type": "markdown",
   "id": "a4783fca",
   "metadata": {
    "id": "a4783fca"
   },
   "source": [
    "Data with verbalizers *a*, *b* and *c*"
   ]
  },
  {
   "cell_type": "code",
   "execution_count": 76,
   "id": "2f64c3cb",
   "metadata": {
    "colab": {
     "base_uri": "https://localhost:8080/"
    },
    "executionInfo": {
     "elapsed": 2,
     "status": "ok",
     "timestamp": 1681740451809,
     "user": {
      "displayName": "Silin Gao",
      "userId": "06208253100379244126"
     },
     "user_tz": -120
    },
    "id": "2f64c3cb",
    "outputId": "39cfc7d3-453f-4b17-d6dd-9faca32ff8f8"
   },
   "outputs": [
    {
     "name": "stdout",
     "output_type": "stream",
     "text": [
      "Training Samples:\n",
      "I know lawyers are always dreadfully careful.\n",
      "I'm well aware that lawyers are always very careful.\n",
      "Answer: a\n",
      "\n",
      "\n",
      "Testing Query:\n",
      "The new rights are nice enough\n",
      "Everyone really likes the newest benefits \n",
      "Answer:\n",
      "\n",
      "\n",
      "Gold Answer:\n",
      "b\n"
     ]
    }
   ],
   "source": [
    "print(\"Training Samples:\")\n",
    "print(train_samples_abc[\"a\"][0])\n",
    "print(\"\\n\")\n",
    "\n",
    "print(\"Testing Query:\")\n",
    "print(test_data_abc[0][\"query\"])\n",
    "print(\"\\n\")\n",
    "\n",
    "print(\"Gold Answer:\")\n",
    "print(test_data_abc[0][\"gold_answer\"])"
   ]
  },
  {
   "cell_type": "markdown",
   "id": "eb30fd47",
   "metadata": {
    "id": "eb30fd47"
   },
   "source": [
    "#### Re-do the classification with new verbalizers.\n",
    "\n",
    "Try verbalizers *positive*, *unrelated* and *negative* under the 2-shot setting."
   ]
  },
  {
   "cell_type": "code",
   "execution_count": 77,
   "id": "14b52710",
   "metadata": {
    "id": "14b52710"
   },
   "outputs": [],
   "source": [
    "predictions = []\n",
    "gold_answers = []"
   ]
  },
  {
   "cell_type": "code",
   "execution_count": 78,
   "id": "3842ede7",
   "metadata": {
    "colab": {
     "base_uri": "https://localhost:8080/"
    },
    "executionInfo": {
     "elapsed": 23845,
     "status": "ok",
     "timestamp": 1681740485335,
     "user": {
      "displayName": "Silin Gao",
      "userId": "06208253100379244126"
     },
     "user_tz": -120
    },
    "id": "3842ede7",
    "outputId": "c83cffae-6cfd-4d6d-9894-eca326ba7e12"
   },
   "outputs": [
    {
     "name": "stderr",
     "output_type": "stream",
     "text": [
      "100%|██████████| 30/30 [01:17<00:00,  2.60s/it]"
     ]
    },
    {
     "name": "stdout",
     "output_type": "stream",
     "text": [
      "Confusion Matrix:\n",
      "[[8. 0. 2.]\n",
      " [4. 1. 5.]\n",
      " [1. 0. 9.]]\n",
      "Accuracy: 60.00% | F1: (69.57%, 18.18%, 69.23%) | Macro-F1: 52.33%\n"
     ]
    },
    {
     "name": "stderr",
     "output_type": "stream",
     "text": [
      "\n"
     ]
    }
   ],
   "source": [
    "random.seed(seed)\n",
    "np.random.seed(seed)\n",
    "\n",
    "class_shots_pun = {\"positive\": 2, \"unrelated\": 2, \"negative\": 2}\n",
    "mapping_pun = {\"positive\": 0, \"unrelated\": 1, \"negative\": 2}\n",
    "\n",
    "run(train_samples_pun, test_data_pun, class_shots_pun, mapping_pun,\n",
    "    predictions, gold_answers, default_class=\"unrelated\", task_name=\"1_3_pun\")"
   ]
  },
  {
   "cell_type": "markdown",
   "id": "5ada009a",
   "metadata": {
    "id": "5ada009a"
   },
   "source": [
    "Try verbalizers *a*, *b* and *c* under the 2-shot setting in 1.1"
   ]
  },
  {
   "cell_type": "code",
   "execution_count": 79,
   "id": "f1efccae",
   "metadata": {
    "id": "f1efccae"
   },
   "outputs": [],
   "source": [
    "predictions = []\n",
    "gold_answers = []"
   ]
  },
  {
   "cell_type": "code",
   "execution_count": 80,
   "id": "df8194f6",
   "metadata": {
    "colab": {
     "base_uri": "https://localhost:8080/"
    },
    "executionInfo": {
     "elapsed": 9311,
     "status": "ok",
     "timestamp": 1681740556153,
     "user": {
      "displayName": "Silin Gao",
      "userId": "06208253100379244126"
     },
     "user_tz": -120
    },
    "id": "df8194f6",
    "outputId": "d90bc77a-43cb-42b3-ab1b-df2daf9ccedf"
   },
   "outputs": [
    {
     "name": "stderr",
     "output_type": "stream",
     "text": [
      "100%|██████████| 30/30 [00:54<00:00,  1.82s/it]"
     ]
    },
    {
     "name": "stdout",
     "output_type": "stream",
     "text": [
      "Confusion Matrix:\n",
      "[[6. 3. 1.]\n",
      " [1. 4. 5.]\n",
      " [1. 0. 9.]]\n",
      "Accuracy: 63.33% | F1: (66.67%, 47.06%, 72.00%) | Macro-F1: 61.91%\n"
     ]
    },
    {
     "name": "stderr",
     "output_type": "stream",
     "text": [
      "\n"
     ]
    }
   ],
   "source": [
    "random.seed(seed)\n",
    "np.random.seed(seed)\n",
    "\n",
    "class_shots_abc = {\"a\": 2, \"b\": 2, \"c\": 2}\n",
    "mapping_abc = {\"a\": 0, \"b\": 1, \"c\": 2}\n",
    "\n",
    "run(train_samples_abc, test_data_abc, class_shots_abc, mapping_abc,\n",
    "    predictions, gold_answers, default_class=\"b\", task_name=\"1_3_abc\")"
   ]
  },
  {
   "cell_type": "markdown",
   "id": "2c6f384d",
   "metadata": {
    "id": "2c6f384d"
   },
   "source": [
    "**Questions:**\n",
    "\n",
    "1. Are new verbalizers better or worse than the original ones?\n",
    "2. What do you think could be the reason?"
   ]
  },
  {
   "cell_type": "markdown",
   "id": "77c62887",
   "metadata": {
    "id": "77c62887"
   },
   "source": [
    "<a name=\"14\"></a>\n",
    "### **1.4 Task Instructions**\n",
    "\n",
    "So far, we have only provided the model with a few examples of the NLI task, however, we didn't tell the model explicitly what the task is! But we also know that these models are self-supervised with a lot of data to follow human instructions to solve tasks such as \"Translate English to French\" or \"Answer in the style of Shakespeare\". \n",
    "\n",
    "In this part, you will try to come up with high-level task instructions/descriptions that can help the model understand the NLI task better and improve its performance."
   ]
  },
  {
   "cell_type": "code",
   "execution_count": 82,
   "id": "f123b9cb",
   "metadata": {
    "id": "f123b9cb"
   },
   "outputs": [],
   "source": [
    "predictions = []\n",
    "gold_answers = []"
   ]
  },
  {
   "cell_type": "code",
   "execution_count": 83,
   "id": "8252537f",
   "metadata": {
    "colab": {
     "base_uri": "https://localhost:8080/"
    },
    "executionInfo": {
     "elapsed": 23221,
     "status": "ok",
     "timestamp": 1681740593777,
     "user": {
      "displayName": "Silin Gao",
      "userId": "06208253100379244126"
     },
     "user_tz": -120
    },
    "id": "8252537f",
    "outputId": "6ca69e25-0d69-4b88-ec62-9b13fa9dc992"
   },
   "outputs": [
    {
     "name": "stderr",
     "output_type": "stream",
     "text": [
      "100%|██████████| 30/30 [00:26<00:00,  1.15it/s]"
     ]
    },
    {
     "name": "stdout",
     "output_type": "stream",
     "text": [
      "Confusion Matrix:\n",
      "[[8. 2. 0.]\n",
      " [4. 6. 0.]\n",
      " [1. 0. 9.]]\n",
      "Accuracy: 76.67% | F1: (69.57%, 66.67%, 94.74%) | Macro-F1: 76.99%\n"
     ]
    },
    {
     "name": "stderr",
     "output_type": "stream",
     "text": [
      "\n"
     ]
    }
   ],
   "source": [
    "random.seed(seed)\n",
    "np.random.seed(seed)\n",
    "\n",
    "# TODO: Come up with a simple task description for the NLI task. You can also consider adding a role-playing element to the task description.\n",
    "instruction = \"Guess whether the second statement is entailed by the first statement, contradicts the first statement, or is neutral to the first statement.\"\n",
    "class_shots = {\"entailment\": 1, \"neutral\": 1, \"contradiction\": 1}\n",
    "mapping = {\"entailment\": 0, \"neutral\": 1, \"contradiction\": 2}\n",
    "\n",
    "run(train_samples, test_data, class_shots, mapping,\n",
    "    predictions, gold_answers, instruction=instruction, task_name=\"1_4_intro1\")"
   ]
  },
  {
   "cell_type": "markdown",
   "id": "f17d0159",
   "metadata": {
    "id": "f17d0159"
   },
   "source": [
    "**Question:** What kind of instruction help improve the model performance and why?"
   ]
  },
  {
   "cell_type": "markdown",
   "id": "5c8f6131",
   "metadata": {
    "id": "5c8f6131"
   },
   "source": [
    "<a name=\"2\"></a>\n",
    "## **PART 2: In-Context Learning for Story Ending Generation**\n",
    "---\n",
    "\n",
    "In this part, you will switch to using the GPT-4o mini model to solve the story ending generation (SEG) task based on in-context learning. For this task, model is given four lines of story plot and needs to generate the fifth line of the story plot as an ending."
   ]
  },
  {
   "cell_type": "markdown",
   "id": "2f52dacd",
   "metadata": {
    "id": "2f52dacd"
   },
   "source": [
    "You can take a glance of the training data used for sampling few-shot in-context examples, and the testing data used to query GPT-4o mini language model for story completion (along with the reference story ending)."
   ]
  },
  {
   "cell_type": "code",
   "execution_count": 84,
   "id": "2d31a9bd",
   "metadata": {
    "colab": {
     "base_uri": "https://localhost:8080/"
    },
    "executionInfo": {
     "elapsed": 1480,
     "status": "ok",
     "timestamp": 1681740778880,
     "user": {
      "displayName": "Silin Gao",
      "userId": "06208253100379244126"
     },
     "user_tz": -120
    },
    "id": "2d31a9bd",
    "outputId": "9fa6d309-b0d7-4f2f-8f73-5647ff995391"
   },
   "outputs": [
    {
     "name": "stdout",
     "output_type": "stream",
     "text": [
      "Training Samples:\n",
      "Dan's parents were overweight.\n",
      "Dan was overweight as well.\n",
      "The doctors told his parents it was unhealthy.\n",
      "His parents understood and decided to make a change.\n",
      "Output: They got themselves and Dan on a diet.\n",
      "\n",
      "\n",
      "Testing Query:\n",
      "A few days ago I decided to take my dog Sable for a walk.\n",
      "She is a half-pit bull half-bulldog with a lot of strength.\n",
      "After I got her leash on I opened the garage to head outside.\n",
      "She tried bolting out of the garage and dragged me along with her.\n",
      "Output:\n",
      "\n",
      "\n",
      "Reference Story Ending:\n",
      "After the half hour walk my muscles were sore as if I had worked out.\n"
     ]
    }
   ],
   "source": [
    "with open(\"story_generation/train_generation.json\", \"r\") as f:\n",
    "    train_samples_sg = json.load(f)\n",
    "with open(\"story_generation/test_generation.json\", \"r\") as f:\n",
    "    test_data_sg = json.load(f)\n",
    "\n",
    "print(\"Training Samples:\")\n",
    "print(train_samples_sg[0])\n",
    "print(\"\\n\")\n",
    "\n",
    "print(\"Testing Query:\")\n",
    "print(test_data_sg[0][\"query\"])\n",
    "print(\"\\n\")\n",
    "\n",
    "print(\"Reference Story Ending:\")\n",
    "print(test_data_sg[0][\"reference_ending\"])"
   ]
  },
  {
   "cell_type": "markdown",
   "id": "a8a56277",
   "metadata": {
    "id": "a8a56277"
   },
   "source": [
    "We will remove the limit on the maximum number of tokens since we are dealing with an open-ended text generation.\n",
    "\n",
    "We also change the *temperature* and *top_p* to 0.7 and 0.95 in order to enable the model's creativity and make it generate more diverse story endings."
   ]
  },
  {
   "cell_type": "code",
   "execution_count": 85,
   "id": "489af8bb",
   "metadata": {
    "id": "489af8bb"
   },
   "outputs": [],
   "source": [
    "model_args = {\"temperature\": 0.7, \"top_p\": 0.95, \"presence_penalty\": 0.0, \"frequency_penalty\": 0.0}"
   ]
  },
  {
   "cell_type": "markdown",
   "id": "d59fcc7f",
   "metadata": {
    "id": "d59fcc7f"
   },
   "source": [
    "You will evaluate the model generation performance based on [METEOR](https://aclanthology.org/W05-0909.pdf). This metric is originally proposed to evaluate machine translation quality, but later widely used in evaluating open-domain text (e.g., dialogues and stories) generation. It measures the alignments (i.e., matches) between words in the hypothesis to reference, by sequentially applying exact match, stemmed match and wordnet based synonym match."
   ]
  },
  {
   "cell_type": "code",
   "execution_count": 86,
   "id": "93f4a599",
   "metadata": {
    "id": "93f4a599"
   },
   "outputs": [],
   "source": [
    "def evaluate_seg(generation, reference):\n",
    "    ref_tokens = word_tokenize(reference)\n",
    "    gen_tokens = word_tokenize(generation)\n",
    "    score = meteor_score([ref_tokens], gen_tokens)\n",
    "    return score"
   ]
  },
  {
   "cell_type": "markdown",
   "id": "ff69d0d4",
   "metadata": {
    "id": "ff69d0d4"
   },
   "source": [
    "You will use the following function to perform GPT-4o mini generation on the SEG task based on in-context learning."
   ]
  },
  {
   "cell_type": "code",
   "execution_count": 95,
   "id": "352adb17",
   "metadata": {
    "id": "352adb17"
   },
   "outputs": [],
   "source": [
    "def gpt_seg(train_samples, test_data, shot, generations, queries, reference_endings,\n",
    "             instruction=None, task_name=\"task\"):\n",
    "\n",
    "    '''\n",
    "    train_samples: training data for sampling in-context examples\n",
    "    test_data: testing queries (with reference story endings)\n",
    "    shot: number of in-context examples\n",
    "    generations: cache for saving the model generations\n",
    "    queries: cache for saving the input queries (i.e., four-line stories to be completed)\n",
    "    reference_endings: cache for reference story endings\n",
    "    instruction: additional task instruction for prompting\n",
    "    task_name: task name for creating chat sessions\n",
    "    '''\n",
    "    \n",
    "    # randomly sample in-context examples and shuffle them\n",
    "    examples = random.sample(train_samples, shot)\n",
    "    random.shuffle(examples)\n",
    "\n",
    "    for qid, query in enumerate(tqdm(test_data)):\n",
    "        \n",
    "        if qid < len(generations):  # skip this query if its model generated story ending is already saved in cache\n",
    "            continue\n",
    "\n",
    "        # TODO: Construct the prompt using the in-context examples and the testing query\n",
    "        prompt = '\\n'.join(examples + [query['query']])\n",
    "\n",
    "        # create a chat session using our GPT wrapper and query the model to get the story ending generation\n",
    "        chat = Chat.create(name=task_name+\"_\"+str(qid))\n",
    "        message = chat.ask(prompt, instruction=instruction, model_args=model_args)\n",
    "        \n",
    "        # save the model generation, story query and reference ending in caches\n",
    "        generations.append(message.content)\n",
    "        queries.append(query[\"query\"])\n",
    "        reference_endings.append(query[\"reference_ending\"])"
   ]
  },
  {
   "cell_type": "markdown",
   "id": "5b28953b",
   "metadata": {
    "id": "5b28953b"
   },
   "source": [
    "You will run the following function to perform GPT-4o mini generation and evaluation."
   ]
  },
  {
   "cell_type": "code",
   "execution_count": 96,
   "id": "fe1e696a",
   "metadata": {
    "id": "fe1e696a"
   },
   "outputs": [],
   "source": [
    "def run(train_samples, test_data, shot, generations, queries, reference_endings, instruction=None, task_name=\"none\"):\n",
    "    \n",
    "    try:\n",
    "        \n",
    "        gpt_seg(train_samples, test_data, shot,\n",
    "                 generations, queries, reference_endings,\n",
    "                 instruction=instruction, task_name=task_name)\n",
    "\n",
    "        meteor_scores = []\n",
    "        print()\n",
    "\n",
    "        for qid, query in enumerate(queries):\n",
    "\n",
    "            meteor = evaluate_seg(generations[qid], reference_endings[qid])\n",
    "            print(\"Query \"+str(qid+1)+f' METEOR Score: {meteor*100:.2f}') \n",
    "\n",
    "            meteor_scores.append(meteor)\n",
    "\n",
    "        meteor_avg = sum(meteor_scores)/len(meteor_scores)\n",
    "        print(f'Average METEOR Score: {meteor_avg*100:.2f}')\n",
    "    \n",
    "    except Exception as error:  # OpenAI ChatGPT endpoint may get stucked by too many queries from time to time\n",
    "        \n",
    "        print(error)\n"
   ]
  },
  {
   "cell_type": "markdown",
   "id": "2aabe9f8",
   "metadata": {
    "id": "2aabe9f8"
   },
   "source": [
    "<a name=\"21\"></a>\n",
    "### **2.1 Zero-Shot Generation**\n",
    "\n",
    "Try 0-shot story ending generation (i.e., without any in-context examples).\n",
    "\n",
    "Create caches for saving model predictions, queries and reference story endings."
   ]
  },
  {
   "cell_type": "code",
   "execution_count": 97,
   "id": "ff383572",
   "metadata": {
    "id": "ff383572"
   },
   "outputs": [],
   "source": [
    "generations_21 = []\n",
    "queries_21 = []\n",
    "reference_endings_21 = []"
   ]
  },
  {
   "cell_type": "markdown",
   "id": "c58400cf",
   "metadata": {
    "id": "c58400cf"
   },
   "source": [
    "Run the generation and evaluation.\n",
    "\n",
    "**Note:** Similar to Part 1, re-run the cell if it gets stucked."
   ]
  },
  {
   "cell_type": "code",
   "execution_count": 98,
   "id": "bc252e8e",
   "metadata": {
    "colab": {
     "base_uri": "https://localhost:8080/"
    },
    "executionInfo": {
     "elapsed": 16075,
     "status": "ok",
     "timestamp": 1681741289721,
     "user": {
      "displayName": "Silin Gao",
      "userId": "06208253100379244126"
     },
     "user_tz": -120
    },
    "id": "bc252e8e",
    "outputId": "b72dc55f-e85a-4b7d-d1ea-195dcd8d6e69"
   },
   "outputs": [
    {
     "name": "stderr",
     "output_type": "stream",
     "text": [
      "100%|██████████| 10/10 [00:34<00:00,  3.49s/it]\n"
     ]
    },
    {
     "name": "stdout",
     "output_type": "stream",
     "text": [
      "\n",
      "Query 1 METEOR Score: 14.32\n",
      "Query 2 METEOR Score: 28.96\n",
      "Query 3 METEOR Score: 34.28\n",
      "Query 4 METEOR Score: 16.05\n",
      "Query 5 METEOR Score: 17.18\n",
      "Query 6 METEOR Score: 17.50\n",
      "Query 7 METEOR Score: 11.59\n",
      "Query 8 METEOR Score: 17.07\n",
      "Query 9 METEOR Score: 20.46\n",
      "Query 10 METEOR Score: 19.08\n",
      "Average METEOR Score: 19.65\n"
     ]
    }
   ],
   "source": [
    "random.seed(seed)\n",
    "np.random.seed(seed)\n",
    "\n",
    "run(train_samples_sg, test_data_sg, 0, generations_21, queries_21, reference_endings_21, task_name=\"2_1_shots0\")"
   ]
  },
  {
   "cell_type": "markdown",
   "id": "028cff13",
   "metadata": {
    "id": "028cff13"
   },
   "source": [
    "You can print the saved caches and compare the quality of the reference and model-generated story endings."
   ]
  },
  {
   "cell_type": "code",
   "execution_count": 99,
   "id": "6e0b2dd1",
   "metadata": {
    "colab": {
     "base_uri": "https://localhost:8080/"
    },
    "executionInfo": {
     "elapsed": 693,
     "status": "ok",
     "timestamp": 1681741384000,
     "user": {
      "displayName": "Silin Gao",
      "userId": "06208253100379244126"
     },
     "user_tz": -120
    },
    "id": "6e0b2dd1",
    "outputId": "be324930-dd77-4254-8b2c-c4e8c7391a7a"
   },
   "outputs": [
    {
     "name": "stdout",
     "output_type": "stream",
     "text": [
      "Queries:\n",
      "A few days ago I decided to take my dog Sable for a walk.\n",
      "She is a half-pit bull half-bulldog with a lot of strength.\n",
      "After I got her leash on I opened the garage to head outside.\n",
      "She tried bolting out of the garage and dragged me along with her.\n",
      "Output:\n",
      "GPT-4o mini Generation:\n",
      "As soon as I opened the garage door, Sable's excitement was palpable. With her powerful build, she lunged forward, and before I knew it, I was being pulled along behind her. I stumbled for a moment, trying to regain my footing as her enthusiasm propelled us both into the open air. \n",
      "\n",
      "\"Whoa, Sable! Easy there!\" I called out, my heart racing. She was ready to explore the world beyond the confines of our home, and I knew I had to get a handle on her excitement. \n",
      "\n",
      "I took a deep breath, planted my feet firmly on the ground, and gently pulled back on the leash, trying to redirect her energy. \"Let’s take it slow,\" I said, hoping to calm her down a bit. After a moment of tugging, she paused, glancing back at me with those big, eager eyes, as if to say, \"Come on, let’s go!\"\n",
      "\n",
      "Once I regained my balance and Sable settled down a notch, we stepped out into the yard. The sun was shining, and the scent of the fresh grass filled the air. I felt a rush of excitement, too, as I realized we were about to embark on another adventure together. With a firm grip on the leash, we began our walk, Sable trotting ahead, her tail wagging furiously, and me smiling as I followed her lead.\n",
      "Reference:\n",
      "After the half hour walk my muscles were sore as if I had worked out.\n"
     ]
    }
   ],
   "source": [
    "print(\"Queries:\\n\"+queries_21[0])\n",
    "print(\"GPT-4o mini Generation:\\n\"+generations_21[0])\n",
    "print(\"Reference:\\n\"+reference_endings_21[0])"
   ]
  },
  {
   "cell_type": "markdown",
   "id": "ae4813db",
   "metadata": {
    "id": "ae4813db"
   },
   "source": [
    "<a name=\"22\"></a>\n",
    "### **2.2 Few-Shot Generation**\n",
    "\n",
    "Try adding 5-shot in-context examples for this generation task."
   ]
  },
  {
   "cell_type": "code",
   "execution_count": 100,
   "id": "89a6f67a",
   "metadata": {
    "id": "89a6f67a"
   },
   "outputs": [],
   "source": [
    "generations_22 = []\n",
    "queries_22 = []\n",
    "reference_endings_22 = []"
   ]
  },
  {
   "cell_type": "code",
   "execution_count": 101,
   "id": "5267b3c5",
   "metadata": {
    "colab": {
     "base_uri": "https://localhost:8080/"
    },
    "executionInfo": {
     "elapsed": 12302,
     "status": "ok",
     "timestamp": 1681741422976,
     "user": {
      "displayName": "Silin Gao",
      "userId": "06208253100379244126"
     },
     "user_tz": -120
    },
    "id": "5267b3c5",
    "outputId": "d0486b7b-7335-426a-979b-07db5765220a"
   },
   "outputs": [
    {
     "name": "stderr",
     "output_type": "stream",
     "text": [
      "100%|██████████| 10/10 [00:29<00:00,  2.97s/it]"
     ]
    },
    {
     "name": "stdout",
     "output_type": "stream",
     "text": [
      "\n",
      "Query 1 METEOR Score: 9.62\n",
      "Query 2 METEOR Score: 18.87\n",
      "Query 3 METEOR Score: 5.21\n",
      "Query 4 METEOR Score: 7.41\n",
      "Query 5 METEOR Score: 47.70\n",
      "Query 6 METEOR Score: 60.13\n",
      "Query 7 METEOR Score: 9.43\n",
      "Query 8 METEOR Score: 18.79\n",
      "Query 9 METEOR Score: 10.10\n",
      "Query 10 METEOR Score: 14.85\n",
      "Average METEOR Score: 20.21\n"
     ]
    },
    {
     "name": "stderr",
     "output_type": "stream",
     "text": [
      "\n"
     ]
    }
   ],
   "source": [
    "random.seed(seed)\n",
    "np.random.seed(seed)\n",
    "\n",
    "run(train_samples_sg, test_data_sg, 5, generations_22, queries_22, reference_endings_22, task_name=\"2_2_shots5\")"
   ]
  },
  {
   "cell_type": "markdown",
   "id": "44be2268",
   "metadata": {
    "id": "44be2268"
   },
   "source": [
    "**Question:** Do few-shot examples improve the model's story ending generation quality?"
   ]
  },
  {
   "cell_type": "markdown",
   "id": "c9bd1485",
   "metadata": {
    "id": "c9bd1485"
   },
   "source": [
    "You can print the saved caches and make more comparisons between the model generations in 2.1 and 2.2."
   ]
  },
  {
   "cell_type": "code",
   "execution_count": 102,
   "id": "e028b9a4",
   "metadata": {
    "colab": {
     "base_uri": "https://localhost:8080/"
    },
    "executionInfo": {
     "elapsed": 5,
     "status": "ok",
     "timestamp": 1681741525710,
     "user": {
      "displayName": "Silin Gao",
      "userId": "06208253100379244126"
     },
     "user_tz": -120
    },
    "id": "e028b9a4",
    "outputId": "1730a155-1fa6-47c9-8b9f-97a5b3a67edb"
   },
   "outputs": [
    {
     "name": "stdout",
     "output_type": "stream",
     "text": [
      "Queries:\n",
      "A few days ago I decided to take my dog Sable for a walk.\n",
      "She is a half-pit bull half-bulldog with a lot of strength.\n",
      "After I got her leash on I opened the garage to head outside.\n",
      "She tried bolting out of the garage and dragged me along with her.\n",
      "Output:\n",
      "GPT-4o mini Generation:\n",
      "I quickly regained my balance and managed to pull her back.\n",
      "Reference:\n",
      "After the half hour walk my muscles were sore as if I had worked out.\n"
     ]
    }
   ],
   "source": [
    "print(\"Queries:\\n\"+queries_22[0])\n",
    "print(\"GPT-4o mini Generation:\\n\"+generations_22[0])\n",
    "print(\"Reference:\\n\"+reference_endings_22[0])"
   ]
  },
  {
   "cell_type": "markdown",
   "id": "2276b631",
   "metadata": {
    "id": "2276b631"
   },
   "source": [
    "<a name=\"23\"></a>\n",
    "### **2.3 Add Instructions**\n",
    "\n",
    "Try 1-shot in-context learning with overall task instruction."
   ]
  },
  {
   "cell_type": "code",
   "execution_count": 103,
   "id": "e7bcd744",
   "metadata": {
    "id": "e7bcd744"
   },
   "outputs": [],
   "source": [
    "generations_23 = []\n",
    "queries_23 = []\n",
    "reference_endings_23 = []"
   ]
  },
  {
   "cell_type": "code",
   "execution_count": 104,
   "id": "efb203a4",
   "metadata": {
    "colab": {
     "base_uri": "https://localhost:8080/"
    },
    "executionInfo": {
     "elapsed": 13668,
     "status": "ok",
     "timestamp": 1681741562163,
     "user": {
      "displayName": "Silin Gao",
      "userId": "06208253100379244126"
     },
     "user_tz": -120
    },
    "id": "efb203a4",
    "outputId": "5ffac98a-d961-460a-e22c-165f08000f7b"
   },
   "outputs": [
    {
     "name": "stderr",
     "output_type": "stream",
     "text": [
      "100%|██████████| 10/10 [01:20<00:00,  8.00s/it]"
     ]
    },
    {
     "name": "stdout",
     "output_type": "stream",
     "text": [
      "\n",
      "Query 1 METEOR Score: 10.60\n",
      "Query 2 METEOR Score: 6.12\n",
      "Query 3 METEOR Score: 12.07\n",
      "Query 4 METEOR Score: 13.10\n",
      "Query 5 METEOR Score: 8.95\n",
      "Query 6 METEOR Score: 12.64\n",
      "Query 7 METEOR Score: 9.45\n",
      "Query 8 METEOR Score: 10.12\n",
      "Query 9 METEOR Score: 11.63\n",
      "Query 10 METEOR Score: 5.42\n",
      "Average METEOR Score: 10.01\n"
     ]
    },
    {
     "name": "stderr",
     "output_type": "stream",
     "text": [
      "\n"
     ]
    }
   ],
   "source": [
    "random.seed(seed)\n",
    "np.random.seed(seed)\n",
    "\n",
    "# TODO: Come up with a simple task description for the story generation task. You can also consider adding a role-playing element to the task deåscription.\n",
    "instruction = \"You are a creative storyteller. Generate an ending of the given story.\"\n",
    "run(train_samples_sg, test_data_sg, 1, generations_23, queries_23, reference_endings_23,\n",
    "    instruction=instruction, task_name=\"2_3_intro\")"
   ]
  },
  {
   "cell_type": "markdown",
   "id": "2cd95e36",
   "metadata": {
    "id": "2cd95e36"
   },
   "source": [
    "**Question:** Does overall task instruction help improve the model's 1-shot story ending generation quality?"
   ]
  },
  {
   "cell_type": "markdown",
   "id": "a314a4db",
   "metadata": {
    "id": "a314a4db"
   },
   "source": [
    "You can print the saved caches and make more comparisons between the model generations in 2.1 and 2.3."
   ]
  },
  {
   "cell_type": "code",
   "execution_count": 105,
   "id": "75485c15",
   "metadata": {
    "colab": {
     "base_uri": "https://localhost:8080/"
    },
    "executionInfo": {
     "elapsed": 4,
     "status": "ok",
     "timestamp": 1681741590062,
     "user": {
      "displayName": "Silin Gao",
      "userId": "06208253100379244126"
     },
     "user_tz": -120
    },
    "id": "75485c15",
    "outputId": "0688a90b-d4b8-4edb-e70b-0f49656bbe6e"
   },
   "outputs": [
    {
     "name": "stdout",
     "output_type": "stream",
     "text": [
      "Queries:\n",
      "A few days ago I decided to take my dog Sable for a walk.\n",
      "She is a half-pit bull half-bulldog with a lot of strength.\n",
      "After I got her leash on I opened the garage to head outside.\n",
      "She tried bolting out of the garage and dragged me along with her.\n",
      "Output:\n",
      "GPT-4o mini Generation:\n",
      "As we burst out into the fresh air, Sable's energy was palpable. She darted ahead, her strong legs propelling her forward with an enthusiasm that was both thrilling and slightly terrifying. I stumbled behind her, laughing and trying to regain my balance. \n",
      "\n",
      "\"Whoa there, girl!\" I called out, but she was too busy sniffing every blade of grass and chasing after fluttering leaves. It was as if the entire world had come alive for her, and I was just along for the ride. \n",
      "\n",
      "After a few minutes of her zigzagging through the neighborhood, I finally managed to reel her in a bit, guiding us towards the nearby park. The sun was shining, and children were playing, their laughter ringing out like music in the warm air. \n",
      "\n",
      "Sable's excitement was infectious, and as we walked, I felt a wave of joy wash over me. We made our way around the park, where Sable met other dogs and people, each interaction filled with wagging tails and friendly barks. I smiled at the sight of her bounding around, her tail wagging like a flag of pure happiness. \n",
      "\n",
      "As we settled onto a bench, Sable flopped down beside me, panting happily. I scratched behind her ears, and in that moment, I realized how much I had needed this outing. The chaotic energy of the day faded into a peaceful warmth, and I felt grateful for this simple joy.\n",
      "\n",
      "Eventually, as the sun began to dip below the horizon, casting a golden glow over everything, we headed home. Sable trotted beside me, her tongue lolling out in a satisfied grin. I couldn't help but laugh, thinking about how she had nearly pulled me off my feet at the start of our adventure. \n",
      "\n",
      "When we finally reached the front door, I looked down at her, and she looked back at me with those big, loving eyes. \"Okay, Sable,\" I said, \"that was a good walk.\" \n",
      "\n",
      "As we stepped inside, I couldn't shake the feeling that today had been a reminder of the joy that can be found in the simplest moments. And I knew that every walk with Sable would be an adventure worth having.\n",
      "Reference:\n",
      "After the half hour walk my muscles were sore as if I had worked out.\n"
     ]
    }
   ],
   "source": [
    "print(\"Queries:\\n\"+queries_23[0])\n",
    "print(\"GPT-4o mini Generation:\\n\"+generations_23[0])\n",
    "print(\"Reference:\\n\"+reference_endings_23[0])"
   ]
  },
  {
   "cell_type": "markdown",
   "id": "e7f18dce",
   "metadata": {},
   "source": [
    "**Question**: Depending on your instruction, do you observe any undesirable pattern in the model generations when 0 or 1 shot examples are given? How can we avoid this pattern in model generations?"
   ]
  },
  {
   "cell_type": "code",
   "execution_count": 106,
   "id": "b11027f0",
   "metadata": {},
   "outputs": [],
   "source": [
    "generations_23 = []\n",
    "queries_23 = []\n",
    "reference_endings_23 = []"
   ]
  },
  {
   "cell_type": "code",
   "execution_count": 107,
   "id": "860049ff",
   "metadata": {},
   "outputs": [
    {
     "name": "stderr",
     "output_type": "stream",
     "text": [
      "100%|██████████| 10/10 [00:29<00:00,  2.98s/it]"
     ]
    },
    {
     "name": "stdout",
     "output_type": "stream",
     "text": [
      "\n",
      "Query 1 METEOR Score: 10.99\n",
      "Query 2 METEOR Score: 27.40\n",
      "Query 3 METEOR Score: 12.71\n",
      "Query 4 METEOR Score: 23.85\n",
      "Query 5 METEOR Score: 17.61\n",
      "Query 6 METEOR Score: 25.25\n",
      "Query 7 METEOR Score: 10.79\n",
      "Query 8 METEOR Score: 16.13\n",
      "Query 9 METEOR Score: 11.81\n",
      "Query 10 METEOR Score: 12.00\n",
      "Average METEOR Score: 16.85\n"
     ]
    },
    {
     "name": "stderr",
     "output_type": "stream",
     "text": [
      "\n"
     ]
    }
   ],
   "source": [
    "random.seed(seed)\n",
    "np.random.seed(seed)\n",
    "\n",
    "instruction = \"You are a creative storyteller. Generate a one-sentence ending of the given story.\"\n",
    "run(train_samples_sg, test_data_sg, 1, generations_23, queries_23, reference_endings_23,\n",
    "    instruction=instruction, task_name=\"2_3_intro\")"
   ]
  },
  {
   "cell_type": "markdown",
   "id": "44ba333f",
   "metadata": {},
   "source": [
    "<a name=\"23\"></a>\n",
    "### **Further Reading**\n",
    "\n",
    "In this exercise session, we played with different prompting techniques for in-context learning, however, all our methods were quite basic. In the past few years, the research community has developed various sophisticated prompting approaches that have been shown to elicit more from large language models. This field has grown so much that [*prompt engineering*](https://www.techtarget.com/searchenterpriseai/definition/AI-prompt-engineer) has become a legit job position. Some well-known prompting techniques are [Chain-of-thought](https://arxiv.org/abs/2201.11903), [Tree-of-thought](https://arxiv.org/abs/2305.10601), [Metacognitive prompting](https://arxiv.org/abs/2308.05342), [Self-consistency](https://arxiv.org/abs/2203.11171) and etc. You can find more information about all these techniques in this [prompting guide](https://www.promptingguide.ai). We encourage you to play with these techniques and compare your results."
   ]
  }
 ],
 "metadata": {
  "colab": {
   "provenance": []
  },
  "gpuClass": "standard",
  "kernelspec": {
   "display_name": "mnlp_exercises",
   "language": "python",
   "name": "python3"
  },
  "language_info": {
   "codemirror_mode": {
    "name": "ipython",
    "version": 3
   },
   "file_extension": ".py",
   "mimetype": "text/x-python",
   "name": "python",
   "nbconvert_exporter": "python",
   "pygments_lexer": "ipython3",
   "version": "3.10.11"
  }
 },
 "nbformat": 4,
 "nbformat_minor": 5
}
